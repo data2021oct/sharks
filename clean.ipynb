{
 "cells": [
  {
   "cell_type": "code",
   "execution_count": 1,
   "id": "f623515c",
   "metadata": {},
   "outputs": [],
   "source": [
    "import pandas as pd\n",
    "import numpy as np\n",
    "import seaborn as sns\n",
    "import regex as re\n",
    "import src.cleanfun as cf"
   ]
  },
  {
   "cell_type": "code",
   "execution_count": 2,
   "id": "2a239412",
   "metadata": {},
   "outputs": [],
   "source": [
    "#cargamos csv\n",
    "sharks = pd.read_csv(\"data/attacks.csv\",encoding = \"ISO-8859-1\")"
   ]
  },
  {
   "cell_type": "code",
   "execution_count": 3,
   "id": "1aa06ce1",
   "metadata": {},
   "outputs": [
    {
     "data": {
      "text/plain": [
       "(25723, 24)"
      ]
     },
     "execution_count": 3,
     "metadata": {},
     "output_type": "execute_result"
    }
   ],
   "source": [
    "sharks.shape"
   ]
  },
  {
   "cell_type": "code",
   "execution_count": 3,
   "id": "238b21a4",
   "metadata": {},
   "outputs": [
    {
     "data": {
      "text/html": [
       "<div>\n",
       "<style scoped>\n",
       "    .dataframe tbody tr th:only-of-type {\n",
       "        vertical-align: middle;\n",
       "    }\n",
       "\n",
       "    .dataframe tbody tr th {\n",
       "        vertical-align: top;\n",
       "    }\n",
       "\n",
       "    .dataframe thead th {\n",
       "        text-align: right;\n",
       "    }\n",
       "</style>\n",
       "<table border=\"1\" class=\"dataframe\">\n",
       "  <thead>\n",
       "    <tr style=\"text-align: right;\">\n",
       "      <th></th>\n",
       "      <th>Case Number</th>\n",
       "      <th>Date</th>\n",
       "      <th>Year</th>\n",
       "      <th>Type</th>\n",
       "      <th>Country</th>\n",
       "      <th>Area</th>\n",
       "      <th>Location</th>\n",
       "      <th>Activity</th>\n",
       "      <th>Name</th>\n",
       "      <th>Sex</th>\n",
       "      <th>...</th>\n",
       "      <th>Species</th>\n",
       "      <th>Investigator or Source</th>\n",
       "      <th>pdf</th>\n",
       "      <th>href formula</th>\n",
       "      <th>href</th>\n",
       "      <th>Case Number.1</th>\n",
       "      <th>Case Number.2</th>\n",
       "      <th>original order</th>\n",
       "      <th>Unnamed: 22</th>\n",
       "      <th>Unnamed: 23</th>\n",
       "    </tr>\n",
       "  </thead>\n",
       "  <tbody>\n",
       "    <tr>\n",
       "      <th>15252</th>\n",
       "      <td>NaN</td>\n",
       "      <td>NaN</td>\n",
       "      <td>NaN</td>\n",
       "      <td>NaN</td>\n",
       "      <td>NaN</td>\n",
       "      <td>NaN</td>\n",
       "      <td>NaN</td>\n",
       "      <td>NaN</td>\n",
       "      <td>NaN</td>\n",
       "      <td>NaN</td>\n",
       "      <td>...</td>\n",
       "      <td>NaN</td>\n",
       "      <td>NaN</td>\n",
       "      <td>NaN</td>\n",
       "      <td>NaN</td>\n",
       "      <td>NaN</td>\n",
       "      <td>NaN</td>\n",
       "      <td>NaN</td>\n",
       "      <td>NaN</td>\n",
       "      <td>NaN</td>\n",
       "      <td>NaN</td>\n",
       "    </tr>\n",
       "    <tr>\n",
       "      <th>2699</th>\n",
       "      <td>1989.01.08</td>\n",
       "      <td>08-Jan-1989</td>\n",
       "      <td>1989.0</td>\n",
       "      <td>Unprovoked</td>\n",
       "      <td>USA</td>\n",
       "      <td>Hawaii</td>\n",
       "      <td>Wailua, Kaua'i</td>\n",
       "      <td>Swimming in strong current with 3 others when ...</td>\n",
       "      <td>Ken Ahlstrand</td>\n",
       "      <td>M</td>\n",
       "      <td>...</td>\n",
       "      <td>NaN</td>\n",
       "      <td>J. Borg, p.77; L. Taylor (1993), pp.106-107</td>\n",
       "      <td>1989.01.08-Ahlstrand.pdf</td>\n",
       "      <td>http://sharkattackfile.net/spreadsheets/pdf_di...</td>\n",
       "      <td>http://sharkattackfile.net/spreadsheets/pdf_di...</td>\n",
       "      <td>1989.01.08</td>\n",
       "      <td>1989.01.08</td>\n",
       "      <td>3604.0</td>\n",
       "      <td>NaN</td>\n",
       "      <td>NaN</td>\n",
       "    </tr>\n",
       "    <tr>\n",
       "      <th>10338</th>\n",
       "      <td>NaN</td>\n",
       "      <td>NaN</td>\n",
       "      <td>NaN</td>\n",
       "      <td>NaN</td>\n",
       "      <td>NaN</td>\n",
       "      <td>NaN</td>\n",
       "      <td>NaN</td>\n",
       "      <td>NaN</td>\n",
       "      <td>NaN</td>\n",
       "      <td>NaN</td>\n",
       "      <td>...</td>\n",
       "      <td>NaN</td>\n",
       "      <td>NaN</td>\n",
       "      <td>NaN</td>\n",
       "      <td>NaN</td>\n",
       "      <td>NaN</td>\n",
       "      <td>NaN</td>\n",
       "      <td>NaN</td>\n",
       "      <td>NaN</td>\n",
       "      <td>NaN</td>\n",
       "      <td>NaN</td>\n",
       "    </tr>\n",
       "    <tr>\n",
       "      <th>10508</th>\n",
       "      <td>NaN</td>\n",
       "      <td>NaN</td>\n",
       "      <td>NaN</td>\n",
       "      <td>NaN</td>\n",
       "      <td>NaN</td>\n",
       "      <td>NaN</td>\n",
       "      <td>NaN</td>\n",
       "      <td>NaN</td>\n",
       "      <td>NaN</td>\n",
       "      <td>NaN</td>\n",
       "      <td>...</td>\n",
       "      <td>NaN</td>\n",
       "      <td>NaN</td>\n",
       "      <td>NaN</td>\n",
       "      <td>NaN</td>\n",
       "      <td>NaN</td>\n",
       "      <td>NaN</td>\n",
       "      <td>NaN</td>\n",
       "      <td>NaN</td>\n",
       "      <td>NaN</td>\n",
       "      <td>NaN</td>\n",
       "    </tr>\n",
       "    <tr>\n",
       "      <th>18592</th>\n",
       "      <td>NaN</td>\n",
       "      <td>NaN</td>\n",
       "      <td>NaN</td>\n",
       "      <td>NaN</td>\n",
       "      <td>NaN</td>\n",
       "      <td>NaN</td>\n",
       "      <td>NaN</td>\n",
       "      <td>NaN</td>\n",
       "      <td>NaN</td>\n",
       "      <td>NaN</td>\n",
       "      <td>...</td>\n",
       "      <td>NaN</td>\n",
       "      <td>NaN</td>\n",
       "      <td>NaN</td>\n",
       "      <td>NaN</td>\n",
       "      <td>NaN</td>\n",
       "      <td>NaN</td>\n",
       "      <td>NaN</td>\n",
       "      <td>NaN</td>\n",
       "      <td>NaN</td>\n",
       "      <td>NaN</td>\n",
       "    </tr>\n",
       "  </tbody>\n",
       "</table>\n",
       "<p>5 rows × 24 columns</p>\n",
       "</div>"
      ],
      "text/plain": [
       "      Case Number         Date    Year        Type Country    Area  \\\n",
       "15252         NaN          NaN     NaN         NaN     NaN     NaN   \n",
       "2699   1989.01.08  08-Jan-1989  1989.0  Unprovoked     USA  Hawaii   \n",
       "10338         NaN          NaN     NaN         NaN     NaN     NaN   \n",
       "10508         NaN          NaN     NaN         NaN     NaN     NaN   \n",
       "18592         NaN          NaN     NaN         NaN     NaN     NaN   \n",
       "\n",
       "             Location                                           Activity  \\\n",
       "15252             NaN                                                NaN   \n",
       "2699   Wailua, Kaua'i  Swimming in strong current with 3 others when ...   \n",
       "10338             NaN                                                NaN   \n",
       "10508             NaN                                                NaN   \n",
       "18592             NaN                                                NaN   \n",
       "\n",
       "                Name Sex   ... Species   \\\n",
       "15252            NaN  NaN  ...      NaN   \n",
       "2699   Ken Ahlstrand    M  ...      NaN   \n",
       "10338            NaN  NaN  ...      NaN   \n",
       "10508            NaN  NaN  ...      NaN   \n",
       "18592            NaN  NaN  ...      NaN   \n",
       "\n",
       "                            Investigator or Source                       pdf  \\\n",
       "15252                                          NaN                       NaN   \n",
       "2699   J. Borg, p.77; L. Taylor (1993), pp.106-107  1989.01.08-Ahlstrand.pdf   \n",
       "10338                                          NaN                       NaN   \n",
       "10508                                          NaN                       NaN   \n",
       "18592                                          NaN                       NaN   \n",
       "\n",
       "                                            href formula  \\\n",
       "15252                                                NaN   \n",
       "2699   http://sharkattackfile.net/spreadsheets/pdf_di...   \n",
       "10338                                                NaN   \n",
       "10508                                                NaN   \n",
       "18592                                                NaN   \n",
       "\n",
       "                                                    href Case Number.1  \\\n",
       "15252                                                NaN           NaN   \n",
       "2699   http://sharkattackfile.net/spreadsheets/pdf_di...    1989.01.08   \n",
       "10338                                                NaN           NaN   \n",
       "10508                                                NaN           NaN   \n",
       "18592                                                NaN           NaN   \n",
       "\n",
       "      Case Number.2 original order Unnamed: 22 Unnamed: 23  \n",
       "15252           NaN            NaN         NaN         NaN  \n",
       "2699     1989.01.08         3604.0         NaN         NaN  \n",
       "10338           NaN            NaN         NaN         NaN  \n",
       "10508           NaN            NaN         NaN         NaN  \n",
       "18592           NaN            NaN         NaN         NaN  \n",
       "\n",
       "[5 rows x 24 columns]"
      ]
     },
     "execution_count": 3,
     "metadata": {},
     "output_type": "execute_result"
    }
   ],
   "source": [
    "sharks.sample(5)"
   ]
  },
  {
   "cell_type": "code",
   "execution_count": 6,
   "id": "2441ea0f",
   "metadata": {},
   "outputs": [
    {
     "data": {
      "text/plain": [
       "Unprovoked      4595\n",
       "Provoked         574\n",
       "Invalid          547\n",
       "Sea Disaster     239\n",
       "Boating          203\n",
       "Boat             137\n",
       "Questionable       2\n",
       "Boatomg            1\n",
       "Name: Type, dtype: int64"
      ]
     },
     "execution_count": 6,
     "metadata": {},
     "output_type": "execute_result"
    }
   ],
   "source": [
    "sharks.Type.value_counts()"
   ]
  },
  {
   "cell_type": "code",
   "execution_count": 9,
   "id": "44e0ea4c",
   "metadata": {},
   "outputs": [],
   "source": [
    "#eliminamos todas las columnas y filas que todos sus valores sean nulos\n",
    "sharks.dropna(how=\"all\", inplace=True)\n",
    "sharks.dropna(how=\"all\",axis = 1, inplace=True)"
   ]
  },
  {
   "cell_type": "markdown",
   "id": "6323db9a",
   "metadata": {},
   "source": [
    "# Hipótesis\n",
    "- hipotesis 1 los ataques de tiburones han icrmentado según han ido avanzando los años\n",
    "- hipótesis 2 los ataquesde tiburones atacan suelen atacar a embarcaciones\n",
    "- [hipóstesis 3 Florida es la capital mundial de los ataques de tiburones](https://www.lavanguardia.com/ocio/viajes/20210407/6631447/6-playas-mas-peligrosas-mundo.html)\n",
    "- [hipótesis 4 ¿Es posible el ataque de tiburón en la costa española?](https://www.mundo-geo.es/naturaleza/es-posible-ataque-tiburon-en-costa-espanola_238643_102.html)"
   ]
  },
  {
   "cell_type": "code",
   "execution_count": null,
   "id": "3da45410",
   "metadata": {},
   "outputs": [],
   "source": [
    "#compruebo qué colmunas tienen datos interesantes para mis hipótesis y borro las que no me hacen ninguna falta.\n",
    "sharks.columns"
   ]
  },
  {
   "cell_type": "code",
   "execution_count": null,
   "id": "a44d775d",
   "metadata": {},
   "outputs": [],
   "source": [
    "columnas_no = ['Case Number','Investigator or Source','pdf', 'href formula',  'href',  'Case Number.1', 'Case Number.2', 'original order', 'Unnamed: 22', 'Unnamed: 23'] \n",
    "sharks.drop(columnas_no, axis=1, inplace=True)"
   ]
  },
  {
   "cell_type": "code",
   "execution_count": null,
   "id": "9fe21632",
   "metadata": {},
   "outputs": [],
   "source": [
    "#ahora que hemos borrado columnas volvemos a hacer una pasada a los registros cuyos datos son todos nulos y borramos estas filas\n",
    "sharks.dropna(how=\"all\", inplace=True)"
   ]
  },
  {
   "cell_type": "code",
   "execution_count": null,
   "id": "7d828621",
   "metadata": {},
   "outputs": [],
   "source": [
    "#cambio nombre de algunas columnas que tienen espacios o caracteres especiales en el nombre\n",
    "#\"Sex \" \"Species \" \"Fatal (Y/N)\"\n",
    "cols = [\"Sex \",\"Species \",\"Fatal (Y/N)\"]\n",
    "new_names = {\"Sex \" : \"Sex\",\n",
    "                 \"Species \" : \"Species\",\n",
    "                 \"Fatal (Y/N)\" : \"Fatal\"}\n",
    "sharks.rename(columns = new_names, inplace=True)"
   ]
  },
  {
   "cell_type": "code",
   "execution_count": null,
   "id": "9ee7596a",
   "metadata": {},
   "outputs": [],
   "source": [
    "#segundo repaso a datos para ver si borramos alguna columna más que no me de información necesaria para las hipótesis\n",
    "sharks.sample(20)\n",
    "sharks.drop([\"Name\"],axis=1, inplace=True)"
   ]
  },
  {
   "cell_type": "markdown",
   "id": "2651eedc",
   "metadata": {},
   "source": [
    "### Limpieza de datos nulos"
   ]
  },
  {
   "cell_type": "code",
   "execution_count": null,
   "id": "1e8193a6",
   "metadata": {
    "scrolled": true
   },
   "outputs": [],
   "source": [
    "#miramos cuantos datos nulos hay en cda columna.\n",
    "sharks.isna().sum()"
   ]
  },
  {
   "cell_type": "markdown",
   "id": "5e61d7c5",
   "metadata": {},
   "source": [
    "#### rellenamos los nulos en función de los datos que contienen las columnas\n"
   ]
  },
  {
   "cell_type": "code",
   "execution_count": null,
   "id": "3f81a6e9",
   "metadata": {},
   "outputs": [],
   "source": [
    "#Year\n",
    "sharks.Year.unique()\n",
    "#rellenamos años vacíos con 0\n",
    "sharks.Year.fillna(0.0,inplace= True)\n",
    "#convertirmos tipo de dato (float) a int.\n",
    "sharks.Year = sharks.Year.astype(dtype = \"int64\")"
   ]
  },
  {
   "cell_type": "code",
   "execution_count": null,
   "id": "e005500b",
   "metadata": {},
   "outputs": [],
   "source": [
    "#type\n",
    "sharks.Type.unique() #['Boating', 'Unprovoked', 'Invalid', 'Provoked', 'Questionable','Sea Disaster', nan, 'Boat', 'Boatomg']\n",
    "sharks[sharks[\"Type\"] == \"Invalid\"].sample(20)\n",
    "#invalid NO nos sirve para los nulos porque es para ataques que no fueron de tiburón\n",
    "sharks.Type.fillna(\"UNKNOWN\",inplace= True)\n",
    "sharks.Type = sharks.Type.str.strip() #borramos espacios\n",
    "sharks = sharks[sharks[\"Type\"] != \"Invalid\"] #eliminamos los registros que que equivalen a \"Invalid\" ya que no son ataques de tibruón\n",
    "#nos da mucha información si el ataque fue en embarcación o direcgtamente a \"nadador\""
   ]
  },
  {
   "cell_type": "code",
   "execution_count": null,
   "id": "422c7122",
   "metadata": {},
   "outputs": [],
   "source": [
    "#Country, Area y Location -> nans == UNKNOWN\n",
    "sharks[\"Country\"].fillna(\"UNKNOWN\", inplace = True)\n",
    "sharks[\"Area\"].fillna(\"UNKNOWN\", inplace = True)\n",
    "sharks[\"Location\"].fillna(\"UNKNOWN\", inplace = True)\n",
    "sharks.Country = sharks.Country.str.strip()\n",
    "sharks.Area = sharks.Area.str.strip()\n",
    "sharks.Location = sharks.Location.str.strip()"
   ]
  },
  {
   "cell_type": "code",
   "execution_count": null,
   "id": "a607df8e",
   "metadata": {},
   "outputs": [],
   "source": [
    "#activity\n",
    "list(sharks.Activity.unique())\n",
    "#de esta columna podemos sacar datos sobre si el tiburón atacó a embarcación o persona.\n",
    "sharks[\"Activity\"].fillna(\"UNKNOWN\", inplace = True)\n",
    "sharks.Activity = sharks.Activity.str.strip()"
   ]
  },
  {
   "cell_type": "code",
   "execution_count": null,
   "id": "c600a4ba",
   "metadata": {},
   "outputs": [],
   "source": [
    "#sex\n",
    "sharks.Sex.unique()\n",
    "#si el sexo de la víctima es desconocido lo rellenamos con \"X\"\n",
    "#además queremos que se queden tres datos únicos -> M,F,X\n",
    "sharks.Sex.fillna(\"X\",inplace = True)\n",
    "sharks.Sex = sharks.Sex.str.strip() #borramos espacios vacíos antes y después de cada cadena.\n",
    "sharks.Sex.unique() #['F', 'M', 'X', 'lli', 'N', '.'] > lli, N y . == X\n",
    "sharks[\"Sex\"].replace('lli',\"X\",inplace=True)\n",
    "sharks[\"Sex\"].replace('.',\"X\",inplace=True)\n",
    "sharks[\"Sex\"].replace('N',\"X\",inplace=True)"
   ]
  },
  {
   "cell_type": "code",
   "execution_count": null,
   "id": "aa03b30c",
   "metadata": {},
   "outputs": [],
   "source": [
    "#Age\n",
    "sharks.Age.unique()\n",
    "#rellenamos nans con \"UNKNOWN\" porque 0 puede confundir la media si luego necesitamos usarla.\n",
    "sharks.Age.fillna(\"UNKNOWN\",inplace= True)\n",
    "sharks.Age = sharks.Age.str.strip()"
   ]
  },
  {
   "cell_type": "code",
   "execution_count": null,
   "id": "2212adf1",
   "metadata": {},
   "outputs": [],
   "source": [
    "#Injury > nan = UNKNOWN\n",
    "sharks.Injury.unique()\n",
    "sharks[\"Injury\"].fillna(\"UNKNOWN\", inplace = True)"
   ]
  },
  {
   "cell_type": "code",
   "execution_count": null,
   "id": "122a3266",
   "metadata": {},
   "outputs": [],
   "source": [
    "#Fatal\n",
    "sharks.Fatal.unique\n",
    "#nulos = UNKNOWN\n",
    "sharks[\"Fatal\"].fillna(\"UNKNOWN\", inplace = True)\n",
    "sharks.Fatal = sharks.Fatal.str.strip()\n",
    "sharks.Fatal.unique() #comprobar registros con FAtal == 'M', '2017', 'y'\n",
    "sharks[(sharks[\"Fatal\"] == 'M')|(sharks[\"Fatal\"] == \"2017\")|(sharks[\"Fatal\"] == \"y\")].Injury.unique\n",
    "sharks[\"Fatal\"].replace('M',\"N\",inplace=True)\n",
    "sharks[\"Fatal\"].replace('y',\"Y\",inplace=True)\n",
    "sharks[\"Fatal\"].replace('2017',\"N\",inplace=True)\n",
    "sharks.Fatal.unique() #['N', 'Y', 'UNKNOWN']"
   ]
  },
  {
   "cell_type": "code",
   "execution_count": null,
   "id": "ac6f0b98",
   "metadata": {},
   "outputs": [],
   "source": [
    "#Time\n",
    "sharks.Time.unique()\n",
    "#nulos = UNKNOWN\n",
    "sharks[\"Time\"].fillna(\"UNKNOWN\", inplace = True)\n",
    "#puede que esta columna no la utlicemos para ningún análisis. No nos interesan los datos tan exactos de la hora del ataque."
   ]
  },
  {
   "cell_type": "code",
   "execution_count": null,
   "id": "03c40ecc",
   "metadata": {},
   "outputs": [],
   "source": [
    "#Species\n",
    "list(sharks.Species.unique())\n",
    "#nulos = UNKNOWN\n",
    "sharks[\"Species\"].fillna(\"UNKNOWN\", inplace = True)\n",
    "sharks.Species = sharks.Species.str.strip()"
   ]
  },
  {
   "cell_type": "code",
   "execution_count": null,
   "id": "201269d8",
   "metadata": {},
   "outputs": [],
   "source": [
    "sharks.isna().sum()"
   ]
  },
  {
   "cell_type": "markdown",
   "id": "871eb9a3",
   "metadata": {},
   "source": [
    "### Procesamos el texto de las columnas"
   ]
  },
  {
   "cell_type": "markdown",
   "id": "1ce7354c",
   "metadata": {},
   "source": [
    "##### Date, Year."
   ]
  },
  {
   "cell_type": "code",
   "execution_count": null,
   "id": "c0914c0a",
   "metadata": {},
   "outputs": [],
   "source": [
    "sharks.Date.value_counts()\n",
    "#de la columna Date extraemos años y meses para nuevas columnas\n",
    "sharks[\"Year_D\"] = sharks[\"Date\"].str.extract(r'(\\d{4})')\n",
    "sharks[\"Month_D\"] = sharks[\"Date\"].str.extract(r'([A-Z][a-z][a-z]-\\d{4})')\n",
    "sharks[\"Month_D\"] = sharks[\"Month_D\"].str.extract(r'([A-Z][a-z][a-z])')\n",
    "#volvemos a rellenar los nulos que quedan \n",
    "#sharks[\"Date\"].fillna(\"UNKNOWN\", inplace = True)\n",
    "sharks.Year_D.fillna(\"UNKNOWN\",inplace= True)\n",
    "sharks.Month_D.fillna(\"UNKNOWN\",inplace= True)\n",
    "#convertimos los strings de Year_D enteros\n",
    "sharks.Year_D = sharks.Year_D.apply(cf.entero_if)\n",
    "sharks[\"Month_D\"] = sharks[\"Month_D\"].str.upper()"
   ]
  },
  {
   "cell_type": "markdown",
   "id": "3b44c60d",
   "metadata": {},
   "source": [
    "##### Type"
   ]
  },
  {
   "cell_type": "code",
   "execution_count": null,
   "id": "5256429d",
   "metadata": {},
   "outputs": [],
   "source": [
    "sharks.Type.unique()"
   ]
  },
  {
   "cell_type": "code",
   "execution_count": null,
   "id": "11c1c9dd",
   "metadata": {},
   "outputs": [],
   "source": [
    "#Boating, Boat y Boatomg == mismo dato \"Boat\"\n",
    "sharks[\"Type\"] = sharks[\"Type\"].str.replace((\".*[Bb](OAT|oat).*\"),\"Boat\", regex=True)\n",
    "sharks.Type.unique()"
   ]
  },
  {
   "cell_type": "markdown",
   "id": "e983044c",
   "metadata": {},
   "source": [
    "#####  Activity"
   ]
  },
  {
   "cell_type": "code",
   "execution_count": null,
   "id": "68e43f63",
   "metadata": {},
   "outputs": [],
   "source": [
    "#creamos una nueva columna \"Act\" strings que acaban en \"ing\" de \"Activity\"\n",
    "sharks[\"Act\"] = sharks.Activity.str.extract(r'(\\w+ing)+')\n",
    "#rellenamos los nuevos nans\n",
    "sharks[\"Act\"].fillna(\"UNKONWN\", inplace = True)\n",
    "sharks[\"Act\"]= sharks[\"Act\"].str.upper()"
   ]
  },
  {
   "cell_type": "code",
   "execution_count": null,
   "id": "3dbe18e0",
   "metadata": {},
   "outputs": [],
   "source": [
    "sharks.Act.value_counts().head(10)"
   ]
  },
  {
   "cell_type": "markdown",
   "id": "86737547",
   "metadata": {},
   "source": [
    "###### Activity -> \"Fishing\"\n",
    "- como en Type tenemos \"Boat\" para saber si hay ataques direcatemente a los barcos, pero luego en activity \"Fishing\" la mayoría son desde barcos, vamos a crear una columna \"Boat\" incluyendo todos los registros que son type \"Boat\" además de los que no son \"Boat\" pero son Fishin"
   ]
  },
  {
   "cell_type": "code",
   "execution_count": null,
   "id": "076a4893",
   "metadata": {},
   "outputs": [],
   "source": [
    "#filtramos todos registros que son tipo Boat y de los que no son tipo Boat pero son activity fishing para ver cuantos realemnte van en barco\n",
    "sharks[\"Boat\"] = np.where(((sharks[\"Type\"] == \"Boat\")|((sharks[\"Type\"] != \"Boat\") & (sharks[\"Act\"] == \"FISHING\"))),\"Yes\",\"No\")"
   ]
  },
  {
   "cell_type": "code",
   "execution_count": null,
   "id": "af289f06",
   "metadata": {
    "scrolled": true
   },
   "outputs": [],
   "source": [
    "sharks.Boat.value_counts()"
   ]
  },
  {
   "cell_type": "markdown",
   "id": "9307f744",
   "metadata": {},
   "source": [
    "#####  Sex"
   ]
  },
  {
   "cell_type": "code",
   "execution_count": null,
   "id": "e1cceb70",
   "metadata": {},
   "outputs": [],
   "source": [
    "sharks.Sex.unique() #no hacemos nada más"
   ]
  },
  {
   "cell_type": "markdown",
   "id": "fbc0bd51",
   "metadata": {},
   "source": [
    "#####  Age"
   ]
  },
  {
   "cell_type": "code",
   "execution_count": null,
   "id": "4d862249",
   "metadata": {},
   "outputs": [],
   "source": [
    "#dejamos solos los valores de edades de Age:\n",
    "sharks.Age = sharks.Age.apply(cf.edades)\n",
    "sharks.Age.unique()"
   ]
  },
  {
   "cell_type": "markdown",
   "id": "3ae4a543",
   "metadata": {},
   "source": [
    "#####  Injury"
   ]
  },
  {
   "cell_type": "code",
   "execution_count": null,
   "id": "81e05090",
   "metadata": {},
   "outputs": [],
   "source": [
    "#creamos nueva columna con un resumen de tipos de lesiones\n",
    "sharks[\"Injur_Type\"] = sharks.Injury.apply(cf.actividades)\n",
    "sharks[\"Injur_Type\"] = sharks[\"Injur_Type\"].str.upper()"
   ]
  },
  {
   "cell_type": "code",
   "execution_count": null,
   "id": "6663bc72",
   "metadata": {},
   "outputs": [],
   "source": [
    "sharks.Injur_Type.unique()"
   ]
  },
  {
   "cell_type": "markdown",
   "id": "239f449b",
   "metadata": {},
   "source": [
    "##### Fatal"
   ]
  },
  {
   "cell_type": "code",
   "execution_count": null,
   "id": "72786715",
   "metadata": {},
   "outputs": [],
   "source": [
    "sharks.Fatal.unique() #no hacemos nada más"
   ]
  },
  {
   "cell_type": "markdown",
   "id": "f0455636",
   "metadata": {},
   "source": [
    "##### Time\n",
    "no vamos a usar esta columna, porque para nuestros datos no nos intersa a qué hora pasaron los incidentes"
   ]
  },
  {
   "cell_type": "markdown",
   "id": "220f171e",
   "metadata": {},
   "source": [
    "#####  species"
   ]
  },
  {
   "cell_type": "code",
   "execution_count": null,
   "id": "5924b8c1",
   "metadata": {},
   "outputs": [],
   "source": [
    "#extraemos en una nueva columna en la que extraemos las especies de los tiburones desde la columna \"Species\"\n",
    "sharks[\"Spec\"] = sharks.Species.str.extract(r'(\\w{3,}(?= shark))')"
   ]
  },
  {
   "cell_type": "code",
   "execution_count": null,
   "id": "e8698795",
   "metadata": {},
   "outputs": [],
   "source": [
    "sharks[\"Spec\"].fillna(\"UNKONWN\", inplace = True)\n",
    "sharks[\"Spec\"] = sharks[\"Spec\"].str.upper()"
   ]
  },
  {
   "cell_type": "code",
   "execution_count": null,
   "id": "4ea1c0b8",
   "metadata": {
    "scrolled": true
   },
   "outputs": [],
   "source": [
    "sharks.Spec.value_counts().head(5)"
   ]
  },
  {
   "cell_type": "markdown",
   "id": "2fbfdd4a",
   "metadata": {},
   "source": [
    "#####  country // Areas"
   ]
  },
  {
   "cell_type": "code",
   "execution_count": null,
   "id": "133da0d6",
   "metadata": {},
   "outputs": [],
   "source": [
    "sharks[\"Country\"] = sharks[\"Country\"].str.upper()\n",
    "sharks[\"Area\"] = sharks[\"Area\"].str.upper()\n",
    "sharks.Area.value_counts().head(10) #las areas nos interesan sobre todo Florida en comparación con el resto..."
   ]
  },
  {
   "cell_type": "markdown",
   "id": "27e49899",
   "metadata": {},
   "source": [
    "## Exportación"
   ]
  },
  {
   "cell_type": "code",
   "execution_count": null,
   "id": "3ed0e1f4",
   "metadata": {
    "scrolled": false
   },
   "outputs": [],
   "source": [
    "sharks.sample(5)"
   ]
  },
  {
   "cell_type": "code",
   "execution_count": null,
   "id": "5c7af89c",
   "metadata": {},
   "outputs": [],
   "source": [
    "#exportarmos sharky\n",
    "sharks.to_csv(\"data/sharks.csv\")"
   ]
  }
 ],
 "metadata": {
  "kernelspec": {
   "display_name": "ironhack",
   "language": "python",
   "name": "ironhack"
  },
  "language_info": {
   "codemirror_mode": {
    "name": "ipython",
    "version": 3
   },
   "file_extension": ".py",
   "mimetype": "text/x-python",
   "name": "python",
   "nbconvert_exporter": "python",
   "pygments_lexer": "ipython3",
   "version": "3.8.5"
  }
 },
 "nbformat": 4,
 "nbformat_minor": 5
}
