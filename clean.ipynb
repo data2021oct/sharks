{
 "cells": [
  {
   "cell_type": "code",
   "execution_count": 1,
   "id": "f623515c",
   "metadata": {},
   "outputs": [],
   "source": [
    "import pandas as pd\n",
    "import numpy as np\n",
    "import seaborn as sns\n",
    "import regex as re\n",
    "import src.cleanfun as cf"
   ]
  },
  {
   "cell_type": "code",
   "execution_count": 2,
   "id": "2a239412",
   "metadata": {},
   "outputs": [],
   "source": [
    "#cargamos csv\n",
    "sharks = pd.read_csv(\"data/attacks.csv\",encoding = \"ISO-8859-1\")"
   ]
  },
  {
   "cell_type": "code",
   "execution_count": 3,
   "id": "238b21a4",
   "metadata": {},
   "outputs": [
    {
     "data": {
      "text/html": [
       "<div>\n",
       "<style scoped>\n",
       "    .dataframe tbody tr th:only-of-type {\n",
       "        vertical-align: middle;\n",
       "    }\n",
       "\n",
       "    .dataframe tbody tr th {\n",
       "        vertical-align: top;\n",
       "    }\n",
       "\n",
       "    .dataframe thead th {\n",
       "        text-align: right;\n",
       "    }\n",
       "</style>\n",
       "<table border=\"1\" class=\"dataframe\">\n",
       "  <thead>\n",
       "    <tr style=\"text-align: right;\">\n",
       "      <th></th>\n",
       "      <th>Case Number</th>\n",
       "      <th>Date</th>\n",
       "      <th>Year</th>\n",
       "      <th>Type</th>\n",
       "      <th>Country</th>\n",
       "      <th>Area</th>\n",
       "      <th>Location</th>\n",
       "      <th>Activity</th>\n",
       "      <th>Name</th>\n",
       "      <th>Sex</th>\n",
       "      <th>...</th>\n",
       "      <th>Species</th>\n",
       "      <th>Investigator or Source</th>\n",
       "      <th>pdf</th>\n",
       "      <th>href formula</th>\n",
       "      <th>href</th>\n",
       "      <th>Case Number.1</th>\n",
       "      <th>Case Number.2</th>\n",
       "      <th>original order</th>\n",
       "      <th>Unnamed: 22</th>\n",
       "      <th>Unnamed: 23</th>\n",
       "    </tr>\n",
       "  </thead>\n",
       "  <tbody>\n",
       "    <tr>\n",
       "      <th>13764</th>\n",
       "      <td>NaN</td>\n",
       "      <td>NaN</td>\n",
       "      <td>NaN</td>\n",
       "      <td>NaN</td>\n",
       "      <td>NaN</td>\n",
       "      <td>NaN</td>\n",
       "      <td>NaN</td>\n",
       "      <td>NaN</td>\n",
       "      <td>NaN</td>\n",
       "      <td>NaN</td>\n",
       "      <td>...</td>\n",
       "      <td>NaN</td>\n",
       "      <td>NaN</td>\n",
       "      <td>NaN</td>\n",
       "      <td>NaN</td>\n",
       "      <td>NaN</td>\n",
       "      <td>NaN</td>\n",
       "      <td>NaN</td>\n",
       "      <td>NaN</td>\n",
       "      <td>NaN</td>\n",
       "      <td>NaN</td>\n",
       "    </tr>\n",
       "    <tr>\n",
       "      <th>13077</th>\n",
       "      <td>NaN</td>\n",
       "      <td>NaN</td>\n",
       "      <td>NaN</td>\n",
       "      <td>NaN</td>\n",
       "      <td>NaN</td>\n",
       "      <td>NaN</td>\n",
       "      <td>NaN</td>\n",
       "      <td>NaN</td>\n",
       "      <td>NaN</td>\n",
       "      <td>NaN</td>\n",
       "      <td>...</td>\n",
       "      <td>NaN</td>\n",
       "      <td>NaN</td>\n",
       "      <td>NaN</td>\n",
       "      <td>NaN</td>\n",
       "      <td>NaN</td>\n",
       "      <td>NaN</td>\n",
       "      <td>NaN</td>\n",
       "      <td>NaN</td>\n",
       "      <td>NaN</td>\n",
       "      <td>NaN</td>\n",
       "    </tr>\n",
       "    <tr>\n",
       "      <th>3553</th>\n",
       "      <td>1966.09.10</td>\n",
       "      <td>10-Sep-1966</td>\n",
       "      <td>1966.0</td>\n",
       "      <td>Unprovoked</td>\n",
       "      <td>AUSTRALIA</td>\n",
       "      <td>Western Australia</td>\n",
       "      <td>Roe Reef off Rottnest Island</td>\n",
       "      <td>Spearfishing</td>\n",
       "      <td>Frank Paxman</td>\n",
       "      <td>M</td>\n",
       "      <td>...</td>\n",
       "      <td>Mako shark, 1.9 m [6.5']</td>\n",
       "      <td>The West Australian (Perth), 9/14/1966; H.D.Ba...</td>\n",
       "      <td>1966.09.10-Paxman.pdf</td>\n",
       "      <td>http://sharkattackfile.net/spreadsheets/pdf_di...</td>\n",
       "      <td>http://sharkattackfile.net/spreadsheets/pdf_di...</td>\n",
       "      <td>1966.09.10</td>\n",
       "      <td>1966.09.10</td>\n",
       "      <td>2750.0</td>\n",
       "      <td>NaN</td>\n",
       "      <td>NaN</td>\n",
       "    </tr>\n",
       "    <tr>\n",
       "      <th>25219</th>\n",
       "      <td>NaN</td>\n",
       "      <td>NaN</td>\n",
       "      <td>NaN</td>\n",
       "      <td>NaN</td>\n",
       "      <td>NaN</td>\n",
       "      <td>NaN</td>\n",
       "      <td>NaN</td>\n",
       "      <td>NaN</td>\n",
       "      <td>NaN</td>\n",
       "      <td>NaN</td>\n",
       "      <td>...</td>\n",
       "      <td>NaN</td>\n",
       "      <td>NaN</td>\n",
       "      <td>NaN</td>\n",
       "      <td>NaN</td>\n",
       "      <td>NaN</td>\n",
       "      <td>NaN</td>\n",
       "      <td>NaN</td>\n",
       "      <td>NaN</td>\n",
       "      <td>NaN</td>\n",
       "      <td>NaN</td>\n",
       "    </tr>\n",
       "    <tr>\n",
       "      <th>8252</th>\n",
       "      <td>0</td>\n",
       "      <td>NaN</td>\n",
       "      <td>NaN</td>\n",
       "      <td>NaN</td>\n",
       "      <td>NaN</td>\n",
       "      <td>NaN</td>\n",
       "      <td>NaN</td>\n",
       "      <td>NaN</td>\n",
       "      <td>NaN</td>\n",
       "      <td>NaN</td>\n",
       "      <td>...</td>\n",
       "      <td>NaN</td>\n",
       "      <td>NaN</td>\n",
       "      <td>NaN</td>\n",
       "      <td>NaN</td>\n",
       "      <td>NaN</td>\n",
       "      <td>NaN</td>\n",
       "      <td>NaN</td>\n",
       "      <td>NaN</td>\n",
       "      <td>NaN</td>\n",
       "      <td>NaN</td>\n",
       "    </tr>\n",
       "  </tbody>\n",
       "</table>\n",
       "<p>5 rows × 24 columns</p>\n",
       "</div>"
      ],
      "text/plain": [
       "      Case Number         Date    Year        Type    Country  \\\n",
       "13764         NaN          NaN     NaN         NaN        NaN   \n",
       "13077         NaN          NaN     NaN         NaN        NaN   \n",
       "3553   1966.09.10  10-Sep-1966  1966.0  Unprovoked  AUSTRALIA   \n",
       "25219         NaN          NaN     NaN         NaN        NaN   \n",
       "8252            0          NaN     NaN         NaN        NaN   \n",
       "\n",
       "                    Area                      Location      Activity  \\\n",
       "13764                NaN                           NaN           NaN   \n",
       "13077                NaN                           NaN           NaN   \n",
       "3553   Western Australia  Roe Reef off Rottnest Island  Spearfishing   \n",
       "25219                NaN                           NaN           NaN   \n",
       "8252                 NaN                           NaN           NaN   \n",
       "\n",
       "               Name Sex   ...                   Species   \\\n",
       "13764           NaN  NaN  ...                        NaN   \n",
       "13077           NaN  NaN  ...                        NaN   \n",
       "3553   Frank Paxman    M  ...  Mako shark, 1.9 m [6.5']    \n",
       "25219           NaN  NaN  ...                        NaN   \n",
       "8252            NaN  NaN  ...                        NaN   \n",
       "\n",
       "                                  Investigator or Source  \\\n",
       "13764                                                NaN   \n",
       "13077                                                NaN   \n",
       "3553   The West Australian (Perth), 9/14/1966; H.D.Ba...   \n",
       "25219                                                NaN   \n",
       "8252                                                 NaN   \n",
       "\n",
       "                         pdf  \\\n",
       "13764                    NaN   \n",
       "13077                    NaN   \n",
       "3553   1966.09.10-Paxman.pdf   \n",
       "25219                    NaN   \n",
       "8252                     NaN   \n",
       "\n",
       "                                            href formula  \\\n",
       "13764                                                NaN   \n",
       "13077                                                NaN   \n",
       "3553   http://sharkattackfile.net/spreadsheets/pdf_di...   \n",
       "25219                                                NaN   \n",
       "8252                                                 NaN   \n",
       "\n",
       "                                                    href Case Number.1  \\\n",
       "13764                                                NaN           NaN   \n",
       "13077                                                NaN           NaN   \n",
       "3553   http://sharkattackfile.net/spreadsheets/pdf_di...    1966.09.10   \n",
       "25219                                                NaN           NaN   \n",
       "8252                                                 NaN           NaN   \n",
       "\n",
       "      Case Number.2 original order Unnamed: 22 Unnamed: 23  \n",
       "13764           NaN            NaN         NaN         NaN  \n",
       "13077           NaN            NaN         NaN         NaN  \n",
       "3553     1966.09.10         2750.0         NaN         NaN  \n",
       "25219           NaN            NaN         NaN         NaN  \n",
       "8252            NaN            NaN         NaN         NaN  \n",
       "\n",
       "[5 rows x 24 columns]"
      ]
     },
     "execution_count": 3,
     "metadata": {},
     "output_type": "execute_result"
    }
   ],
   "source": [
    "sharks.sample(5)"
   ]
  },
  {
   "cell_type": "code",
   "execution_count": 4,
   "id": "44e0ea4c",
   "metadata": {},
   "outputs": [],
   "source": [
    "#eliminamos todas las columnas y filas que todos sus valores sean nulos\n",
    "sharks.dropna(how=\"all\", inplace=True)\n",
    "sharks.dropna(how=\"all\",axis = 1, inplace=True)"
   ]
  },
  {
   "cell_type": "markdown",
   "id": "6323db9a",
   "metadata": {},
   "source": [
    "# Hipótesis\n",
    "- hipotesis 1 los ataques de tiburones han icrmentado según han ido avanzando los años\n",
    "- hipótesis 2 los ataquesde tiburones atacan más a embarcaciones que a nadadores\n",
    "- [hipóstesis 3 Florida es la capital mundial de los ataques de tiburones](https://www.lavanguardia.com/ocio/viajes/20210407/6631447/6-playas-mas-peligrosas-mundo.html)\n",
    "- [hipótesis 4 ¿Es posible el ataque de tiburón en la costa española?](https://www.mundo-geo.es/naturaleza/es-posible-ataque-tiburon-en-costa-espanola_238643_102.html)"
   ]
  },
  {
   "cell_type": "code",
   "execution_count": 5,
   "id": "3da45410",
   "metadata": {},
   "outputs": [
    {
     "data": {
      "text/plain": [
       "Index(['Case Number', 'Date', 'Year', 'Type', 'Country', 'Area', 'Location',\n",
       "       'Activity', 'Name', 'Sex ', 'Age', 'Injury', 'Fatal (Y/N)', 'Time',\n",
       "       'Species ', 'Investigator or Source', 'pdf', 'href formula', 'href',\n",
       "       'Case Number.1', 'Case Number.2', 'original order', 'Unnamed: 22',\n",
       "       'Unnamed: 23'],\n",
       "      dtype='object')"
      ]
     },
     "execution_count": 5,
     "metadata": {},
     "output_type": "execute_result"
    }
   ],
   "source": [
    "#compruebo qué colmunas tienen datos interesantes para mis hipótesis y borro las que no me hacen ninguna falta.\n",
    "sharks.columns"
   ]
  },
  {
   "cell_type": "code",
   "execution_count": 6,
   "id": "a44d775d",
   "metadata": {},
   "outputs": [],
   "source": [
    "columnas_no = ['Case Number','Investigator or Source','pdf', 'href formula',  'href',  'Case Number.1', 'Case Number.2', 'original order', 'Unnamed: 22', 'Unnamed: 23'] \n",
    "sharks.drop(columnas_no, axis=1, inplace=True)"
   ]
  },
  {
   "cell_type": "code",
   "execution_count": 7,
   "id": "e5711ec2",
   "metadata": {},
   "outputs": [
    {
     "data": {
      "text/plain": [
       "Index(['Date', 'Year', 'Type', 'Country', 'Area', 'Location', 'Activity',\n",
       "       'Name', 'Sex ', 'Age', 'Injury', 'Fatal (Y/N)', 'Time', 'Species '],\n",
       "      dtype='object')"
      ]
     },
     "execution_count": 7,
     "metadata": {},
     "output_type": "execute_result"
    }
   ],
   "source": [
    "sharks.columns"
   ]
  },
  {
   "cell_type": "code",
   "execution_count": 8,
   "id": "9fe21632",
   "metadata": {},
   "outputs": [],
   "source": [
    "#ahora que hemos borrado columnas vemos si quedan filas que son nan por completo y borrranos\n",
    "sharks.dropna(how=\"all\", inplace=True)"
   ]
  },
  {
   "cell_type": "code",
   "execution_count": 9,
   "id": "7d828621",
   "metadata": {},
   "outputs": [
    {
     "data": {
      "text/plain": [
       "Index(['Date', 'Year', 'Type', 'Country', 'Area', 'Location', 'Activity',\n",
       "       'Name', 'Sex', 'Age', 'Injury', 'Fatal', 'Time', 'Species'],\n",
       "      dtype='object')"
      ]
     },
     "execution_count": 9,
     "metadata": {},
     "output_type": "execute_result"
    }
   ],
   "source": [
    "#cambio nombre de algunas columnas que tienen espacios o caracteres especiales en el nombre\n",
    "#\"Sex \" \"Species \" \"Fatal (Y/N)\"\n",
    "cols = [\"Sex \",\"Species \",\"Fatal (Y/N)\"]\n",
    "new_names = {\"Sex \" : \"Sex\",\n",
    "                 \"Species \" : \"Species\",\n",
    "                 \"Fatal (Y/N)\" : \"Fatal\"}\n",
    "sharks.rename(columns = new_names, inplace=True)\n",
    "sharks.columns"
   ]
  },
  {
   "cell_type": "code",
   "execution_count": 10,
   "id": "9ee7596a",
   "metadata": {},
   "outputs": [],
   "source": [
    "#segundo repaso a datos para ver si borramos alguna columna más que no me de información necesaria para las hipótesis\n",
    "sharks.sample(20)\n",
    "sharks.drop([\"Name\"],axis=1, inplace=True)"
   ]
  },
  {
   "cell_type": "markdown",
   "id": "2651eedc",
   "metadata": {},
   "source": [
    "### Limpieza de datos nulos"
   ]
  },
  {
   "cell_type": "code",
   "execution_count": 11,
   "id": "1e8193a6",
   "metadata": {
    "scrolled": true
   },
   "outputs": [
    {
     "data": {
      "text/plain": [
       "Date           0\n",
       "Year           2\n",
       "Type           4\n",
       "Country       50\n",
       "Area         455\n",
       "Location     540\n",
       "Activity     544\n",
       "Sex          565\n",
       "Age         2831\n",
       "Injury        28\n",
       "Fatal        539\n",
       "Time        3354\n",
       "Species     2838\n",
       "dtype: int64"
      ]
     },
     "execution_count": 11,
     "metadata": {},
     "output_type": "execute_result"
    }
   ],
   "source": [
    "#miramos cuantos datos nulos hay en cda columna.\n",
    "sharks.isna().sum()"
   ]
  },
  {
   "cell_type": "markdown",
   "id": "5e61d7c5",
   "metadata": {},
   "source": [
    "#### rellenamos los nulos en función de los datos que contienen las columnas\n"
   ]
  },
  {
   "cell_type": "code",
   "execution_count": 12,
   "id": "b21d91e5",
   "metadata": {},
   "outputs": [
    {
     "name": "stdout",
     "output_type": "stream",
     "text": [
      "<class 'pandas.core.frame.DataFrame'>\n",
      "Int64Index: 6302 entries, 0 to 6301\n",
      "Data columns (total 13 columns):\n",
      " #   Column    Non-Null Count  Dtype  \n",
      "---  ------    --------------  -----  \n",
      " 0   Date      6302 non-null   object \n",
      " 1   Year      6300 non-null   float64\n",
      " 2   Type      6298 non-null   object \n",
      " 3   Country   6252 non-null   object \n",
      " 4   Area      5847 non-null   object \n",
      " 5   Location  5762 non-null   object \n",
      " 6   Activity  5758 non-null   object \n",
      " 7   Sex       5737 non-null   object \n",
      " 8   Age       3471 non-null   object \n",
      " 9   Injury    6274 non-null   object \n",
      " 10  Fatal     5763 non-null   object \n",
      " 11  Time      2948 non-null   object \n",
      " 12  Species   3464 non-null   object \n",
      "dtypes: float64(1), object(12)\n",
      "memory usage: 689.3+ KB\n"
     ]
    }
   ],
   "source": [
    "sharks.info()"
   ]
  },
  {
   "cell_type": "code",
   "execution_count": 13,
   "id": "3f81a6e9",
   "metadata": {},
   "outputs": [],
   "source": [
    "#Year\n",
    "sharks.Year.unique()\n",
    "#rellenamos años vacíos con 0\n",
    "sharks.Year.fillna(0.0,inplace= True)\n",
    "#convertirmos tipo de dato (float) a int.\n",
    "sharks.Year = sharks.Year.astype(dtype = \"int64\")"
   ]
  },
  {
   "cell_type": "code",
   "execution_count": 14,
   "id": "e005500b",
   "metadata": {},
   "outputs": [],
   "source": [
    "#type\n",
    "sharks.Type.unique() #['Boating', 'Unprovoked', 'Invalid', 'Provoked', 'Questionable','Sea Disaster', nan, 'Boat', 'Boatomg']\n",
    "sharks[sharks[\"Type\"] == \"Invalid\"].sample(20)\n",
    "#invalid NO nos sirve para los nulos porque es para ataques que no fueron de tiburón\n",
    "#mirar a ver si podemos eliminar esas filas porque queremos estudiar solo los casos reales de tiburones.\n",
    "#nos da mucha información si el ataque fue en embarcación o direcgtamente a \"nadador\"\n",
    "sharks.Type.fillna(\"UNKNOWN\",inplace= True)\n",
    "sharks.Type = sharks.Type.str.strip() #borramos espacios\n",
    "sharks = sharks[sharks[\"Type\"] != \"Invalid\"]"
   ]
  },
  {
   "cell_type": "code",
   "execution_count": 15,
   "id": "422c7122",
   "metadata": {},
   "outputs": [],
   "source": [
    "#Country, Area y Location -> nans == UNKNOWN\n",
    "sharks[\"Country\"].fillna(\"UNKNOWN\", inplace = True)\n",
    "sharks[\"Area\"].fillna(\"UNKNOWN\", inplace = True)\n",
    "sharks[\"Location\"].fillna(\"UNKNOWN\", inplace = True)\n",
    "sharks.Country = sharks.Country.str.strip()\n",
    "sharks.Area = sharks.Area.str.strip()\n",
    "sharks.Location = sharks.Location.str.strip()"
   ]
  },
  {
   "cell_type": "code",
   "execution_count": 16,
   "id": "a607df8e",
   "metadata": {},
   "outputs": [],
   "source": [
    "#activity\n",
    "list(sharks.Activity.unique())\n",
    "#unknown\n",
    "#de esta columna podemos sacar datos sobre si el tiburón atacó a embarcación o persona.\n",
    "sharks[\"Activity\"].fillna(\"UNKNOWN\", inplace = True)\n",
    "sharks.Activity = sharks.Activity.str.strip()"
   ]
  },
  {
   "cell_type": "code",
   "execution_count": 17,
   "id": "c600a4ba",
   "metadata": {},
   "outputs": [],
   "source": [
    "#sex\n",
    "sharks.Sex.unique()\n",
    "#si el sexo de la víctima es desconocido lo rellenamos con \"X\"\n",
    "#además queremos que se queden tres datos únicos -> M,F,X\n",
    "sharks.Sex.fillna(\"X\",inplace = True)\n",
    "sharks.Sex = sharks.Sex.str.strip() #borramos espacios vacíos antes y después de cada cadena.\n",
    "sharks.Sex.unique() #['F', 'M', 'X', 'lli', 'N', '.'] > lli, N y . == X\n",
    "sharks[\"Sex\"].replace('lli',\"X\",inplace=True)\n",
    "sharks[\"Sex\"].replace('.',\"X\",inplace=True)\n",
    "sharks[\"Sex\"].replace('N',\"X\",inplace=True)"
   ]
  },
  {
   "cell_type": "code",
   "execution_count": 18,
   "id": "aa03b30c",
   "metadata": {},
   "outputs": [],
   "source": [
    "#Age\n",
    "sharks.Age.unique()\n",
    "#rellenamos nans con \"UNKNOWN\" porque 0 puede confundir la media si luego necesitamos usarla.\n",
    "sharks.Age.fillna(\"UNKNOWN\",inplace= True)\n",
    "sharks.Age = sharks.Age.str.strip()"
   ]
  },
  {
   "cell_type": "code",
   "execution_count": 19,
   "id": "2212adf1",
   "metadata": {},
   "outputs": [],
   "source": [
    "#Injury > nan = UNKNOWN\n",
    "sharks.Injury.unique()\n",
    "sharks[\"Injury\"].fillna(\"UNKNOWN\", inplace = True)"
   ]
  },
  {
   "cell_type": "code",
   "execution_count": 20,
   "id": "122a3266",
   "metadata": {},
   "outputs": [
    {
     "data": {
      "text/plain": [
       "array(['N', 'Y', 'UNKNOWN'], dtype=object)"
      ]
     },
     "execution_count": 20,
     "metadata": {},
     "output_type": "execute_result"
    }
   ],
   "source": [
    "#Fatal\n",
    "sharks.Fatal.unique\n",
    "#nulos = UNKNOWN\n",
    "sharks[\"Fatal\"].fillna(\"UNKNOWN\", inplace = True)\n",
    "sharks.Fatal = sharks.Fatal.str.strip()\n",
    "sharks.Fatal.unique() #comprobar registros con FAtal == 'M', '2017', 'y'\n",
    "sharks[(sharks[\"Fatal\"] == 'M')|(sharks[\"Fatal\"] == \"2017\")|(sharks[\"Fatal\"] == \"y\")].Injury.unique\n",
    "sharks[\"Fatal\"].replace('M',\"N\",inplace=True)\n",
    "sharks[\"Fatal\"].replace('y',\"Y\",inplace=True)\n",
    "sharks[\"Fatal\"].replace('2017',\"N\",inplace=True)\n",
    "sharks.Fatal.unique() #['N', 'Y', 'UNKNOWN']"
   ]
  },
  {
   "cell_type": "code",
   "execution_count": 21,
   "id": "ac6f0b98",
   "metadata": {},
   "outputs": [],
   "source": [
    "#Time\n",
    "sharks.Time.unique()\n",
    "#nulos = UNKNOWN\n",
    "sharks[\"Time\"].fillna(\"UNKNOWN\", inplace = True)\n",
    "#puede que esta columna no la utlicemos para ningún análisis. No nos interesan los datos tan exactos de la hora del ataque."
   ]
  },
  {
   "cell_type": "code",
   "execution_count": 22,
   "id": "03c40ecc",
   "metadata": {},
   "outputs": [],
   "source": [
    "#Species\n",
    "list(sharks.Species.unique())\n",
    "sharks[\"Species\"].fillna(\"UNKNOWN\", inplace = True)\n",
    "sharks.Species = sharks.Species.str.strip()"
   ]
  },
  {
   "cell_type": "code",
   "execution_count": 23,
   "id": "201269d8",
   "metadata": {},
   "outputs": [
    {
     "data": {
      "text/plain": [
       "Date        0\n",
       "Year        0\n",
       "Type        0\n",
       "Country     0\n",
       "Area        0\n",
       "Location    0\n",
       "Activity    0\n",
       "Sex         0\n",
       "Age         0\n",
       "Injury      0\n",
       "Fatal       0\n",
       "Time        0\n",
       "Species     0\n",
       "dtype: int64"
      ]
     },
     "execution_count": 23,
     "metadata": {},
     "output_type": "execute_result"
    }
   ],
   "source": [
    "sharks.isna().sum()"
   ]
  },
  {
   "cell_type": "markdown",
   "id": "871eb9a3",
   "metadata": {},
   "source": [
    "#### precesamos el texto de las columnas"
   ]
  },
  {
   "cell_type": "markdown",
   "id": "1ce7354c",
   "metadata": {},
   "source": [
    "##### Date, Year."
   ]
  },
  {
   "cell_type": "code",
   "execution_count": 24,
   "id": "c0914c0a",
   "metadata": {},
   "outputs": [],
   "source": [
    "sharks.Date.value_counts()\n",
    "#de la columna Date extraemos solo las fechas\n",
    "sharks[\"Year_D\"] = sharks[\"Date\"].str.extract(r'(\\d{4})')\n",
    "sharks[\"Month_D\"] = sharks[\"Date\"].str.extract(r'([A-Z][a-z][a-z]-\\d{4})')\n",
    "sharks[\"Month_D\"] = sharks[\"Month_D\"].str.extract(r'([A-Z][a-z][a-z])')\n",
    "#volvemos a rellenar los nulos que quedan \n",
    "#sharks[\"Date\"].fillna(\"UNKNOWN\", inplace = True)"
   ]
  },
  {
   "cell_type": "code",
   "execution_count": 25,
   "id": "54502489",
   "metadata": {},
   "outputs": [],
   "source": [
    "sharks.Year_D.unique() #los registros de esta columna parecen más concretos que la de Year\n",
    "#rellenamos nans de esta columna y tanbién de la columna Month. elimnamos Year.\n",
    "sharks.Year_D.fillna(\"UNKNOWN\",inplace= True)\n",
    "sharks.Month_D.fillna(\"UNKNOWN\",inplace= True)\n",
    "#convertimos los strings a enteros\n",
    "sharks.Year_D = sharks.Year_D.apply(cf.entero_if)"
   ]
  },
  {
   "cell_type": "code",
   "execution_count": 26,
   "id": "d12f11bf",
   "metadata": {},
   "outputs": [
    {
     "data": {
      "text/plain": [
       "Index(['Date', 'Year', 'Type', 'Country', 'Area', 'Location', 'Activity',\n",
       "       'Sex', 'Age', 'Injury', 'Fatal', 'Time', 'Species', 'Year_D',\n",
       "       'Month_D'],\n",
       "      dtype='object')"
      ]
     },
     "execution_count": 26,
     "metadata": {},
     "output_type": "execute_result"
    }
   ],
   "source": [
    "sharks.columns"
   ]
  },
  {
   "cell_type": "markdown",
   "id": "3b44c60d",
   "metadata": {},
   "source": [
    "##### Type"
   ]
  },
  {
   "cell_type": "code",
   "execution_count": 27,
   "id": "5256429d",
   "metadata": {},
   "outputs": [
    {
     "data": {
      "text/plain": [
       "array(['Boating', 'Unprovoked', 'Provoked', 'Questionable',\n",
       "       'Sea Disaster', 'UNKNOWN', 'Boat', 'Boatomg'], dtype=object)"
      ]
     },
     "execution_count": 27,
     "metadata": {},
     "output_type": "execute_result"
    }
   ],
   "source": [
    "sharks.Type.unique()"
   ]
  },
  {
   "cell_type": "code",
   "execution_count": 28,
   "id": "11c1c9dd",
   "metadata": {},
   "outputs": [
    {
     "data": {
      "text/plain": [
       "array(['Boat', 'Unprovoked', 'Provoked', 'Questionable', 'Sea Disaster',\n",
       "       'UNKNOWN'], dtype=object)"
      ]
     },
     "execution_count": 28,
     "metadata": {},
     "output_type": "execute_result"
    }
   ],
   "source": [
    "sharks[\"Type\"] = sharks[\"Type\"].str.replace((\".*[Bb](OAT|oat).*\"),\"Boat\", regex=True)\n",
    "sharks.Type.unique()"
   ]
  },
  {
   "cell_type": "markdown",
   "id": "e983044c",
   "metadata": {},
   "source": [
    "#### Activity"
   ]
  },
  {
   "cell_type": "code",
   "execution_count": 29,
   "id": "68e43f63",
   "metadata": {},
   "outputs": [],
   "source": [
    "sharks[\"Act\"] = sharks.Activity.str.extract(r'(\\w+ing)+')"
   ]
  },
  {
   "cell_type": "code",
   "execution_count": 30,
   "id": "b01346c4",
   "metadata": {
    "scrolled": true
   },
   "outputs": [],
   "source": [
    "sharks[\"Act\"].fillna(\"UNKONWN\", inplace = True)"
   ]
  },
  {
   "cell_type": "code",
   "execution_count": 31,
   "id": "3dbe18e0",
   "metadata": {},
   "outputs": [
    {
     "data": {
      "text/plain": [
       "<bound method Series.unique of 0       Paddling\n",
       "1       Standing\n",
       "3        Surfing\n",
       "4         diving\n",
       "5        surfing\n",
       "          ...   \n",
       "6297      Diving\n",
       "6298      diving\n",
       "6299    Swimming\n",
       "6300     UNKONWN\n",
       "6301    Swimming\n",
       "Name: Act, Length: 5755, dtype: object>"
      ]
     },
     "execution_count": 31,
     "metadata": {},
     "output_type": "execute_result"
    }
   ],
   "source": [
    "sharks.Act.unique"
   ]
  },
  {
   "cell_type": "markdown",
   "id": "86737547",
   "metadata": {},
   "source": [
    "#### Activity -> \"Fishing\"\n",
    "- como en Type tenemos \"Boat\" para saber si hay ataques direcatemente a los barcos, pero luego en activity \"Fishing\" la mayoría son desde barcos, vamos a crear una columna \"Boat\" incluyendo todos los registros que son type \"Boat\" además de los que no son \"Boat\" pero son Fishin"
   ]
  },
  {
   "cell_type": "code",
   "execution_count": 32,
   "id": "076a4893",
   "metadata": {},
   "outputs": [],
   "source": [
    "#filtramos todos registros que son tipo Boat y de los que no son tipo Boat pero son activity fishing para ver cuantos realemnte van en barco\n",
    "sharks[\"Boat\"] = np.where(((sharks[\"Type\"] == \"Boat\")|((sharks[\"Type\"] != \"Boat\") & (sharks[\"Act\"] == \"Fishing\"))),True,False)"
   ]
  },
  {
   "cell_type": "code",
   "execution_count": 33,
   "id": "af289f06",
   "metadata": {
    "scrolled": true
   },
   "outputs": [
    {
     "data": {
      "text/plain": [
       "False    4984\n",
       "True      771\n",
       "Name: Boat, dtype: int64"
      ]
     },
     "execution_count": 33,
     "metadata": {},
     "output_type": "execute_result"
    }
   ],
   "source": [
    "sharks.Boat.value_counts()"
   ]
  },
  {
   "cell_type": "markdown",
   "id": "9307f744",
   "metadata": {},
   "source": [
    "#### Sex"
   ]
  },
  {
   "cell_type": "code",
   "execution_count": 34,
   "id": "e1cceb70",
   "metadata": {},
   "outputs": [
    {
     "data": {
      "text/plain": [
       "array(['F', 'M', 'X'], dtype=object)"
      ]
     },
     "execution_count": 34,
     "metadata": {},
     "output_type": "execute_result"
    }
   ],
   "source": [
    "sharks.Sex.unique()"
   ]
  },
  {
   "cell_type": "markdown",
   "id": "fbc0bd51",
   "metadata": {},
   "source": [
    "#### Age"
   ]
  },
  {
   "cell_type": "code",
   "execution_count": 35,
   "id": "4d862249",
   "metadata": {},
   "outputs": [
    {
     "data": {
      "text/plain": [
       "array(['57', '11', 'UNKNOWN', '18', '52', '15', '12', '32', '10', '34',\n",
       "       '30', '60', '33', '29', '54', '41', '37', '19', '25', '69', '38',\n",
       "       '55', '35', '45', '40', '28', '20', '24', '26', '49', '14', '22',\n",
       "       '7', '31', '17', '13', '42', '3', '50', '46', '16', '82', '48',\n",
       "       '21', '51', '39', '58', '47', '61', '65', '73', '36', '66', '43',\n",
       "       '9', '72', '59', '6', '64', '23', '71', '44', '27', '62', '68',\n",
       "       '63', '70', '18 months', '53', '8', '77', '74', '56', '5', '86',\n",
       "       '84', '87', '75', '9 months', '1', '81', '78', '2'], dtype=object)"
      ]
     },
     "execution_count": 35,
     "metadata": {},
     "output_type": "execute_result"
    }
   ],
   "source": [
    "#dejamos solos los valores de edades de Age:\n",
    "sharks.Age = sharks.Age.apply(cf.edades)\n",
    "sharks.Age.unique()"
   ]
  },
  {
   "cell_type": "code",
   "execution_count": 36,
   "id": "41d244d3",
   "metadata": {},
   "outputs": [
    {
     "data": {
      "text/plain": [
       "Index(['Date', 'Year', 'Type', 'Country', 'Area', 'Location', 'Activity',\n",
       "       'Sex', 'Age', 'Injury', 'Fatal', 'Time', 'Species', 'Year_D', 'Month_D',\n",
       "       'Act', 'Boat'],\n",
       "      dtype='object')"
      ]
     },
     "execution_count": 36,
     "metadata": {},
     "output_type": "execute_result"
    }
   ],
   "source": [
    "sharks.columns"
   ]
  },
  {
   "cell_type": "markdown",
   "id": "3ae4a543",
   "metadata": {},
   "source": [
    "#### Injury"
   ]
  },
  {
   "cell_type": "code",
   "execution_count": 37,
   "id": "81e05090",
   "metadata": {},
   "outputs": [],
   "source": [
    "sharks[\"Injur_Type\"] = sharks.Injury.apply(cf.actividades)"
   ]
  },
  {
   "cell_type": "code",
   "execution_count": 38,
   "id": "6663bc72",
   "metadata": {},
   "outputs": [
    {
     "data": {
      "text/plain": [
       "array(['No injury', 'Minor injuries', 'Lacerations', 'Fatal injury',\n",
       "       'Bitten', 'Injured', 'Others', 'Punctured', 'Limb severed',\n",
       "       'No details', 'Unknown'], dtype=object)"
      ]
     },
     "execution_count": 38,
     "metadata": {},
     "output_type": "execute_result"
    }
   ],
   "source": [
    "sharks.Injur_Type.unique()"
   ]
  },
  {
   "cell_type": "markdown",
   "id": "239f449b",
   "metadata": {},
   "source": [
    "#### Fatal"
   ]
  },
  {
   "cell_type": "code",
   "execution_count": 39,
   "id": "72786715",
   "metadata": {},
   "outputs": [
    {
     "data": {
      "text/plain": [
       "array(['N', 'Y', 'UNKNOWN'], dtype=object)"
      ]
     },
     "execution_count": 39,
     "metadata": {},
     "output_type": "execute_result"
    }
   ],
   "source": [
    "sharks.Fatal.unique()"
   ]
  },
  {
   "cell_type": "markdown",
   "id": "f0455636",
   "metadata": {},
   "source": [
    "#### Time\n",
    "no vamos a usar esta columna, porque para nuestros datos no nos intersa a qué hora pasaron los incidentes"
   ]
  },
  {
   "cell_type": "markdown",
   "id": "220f171e",
   "metadata": {},
   "source": [
    "### species"
   ]
  },
  {
   "cell_type": "code",
   "execution_count": 40,
   "id": "5924b8c1",
   "metadata": {},
   "outputs": [],
   "source": [
    "sharks[\"Spec\"] = sharks.Species.str.extract(r'(\\w{3,}(?= shark))')"
   ]
  },
  {
   "cell_type": "code",
   "execution_count": 41,
   "id": "e8698795",
   "metadata": {},
   "outputs": [],
   "source": [
    "sharks[\"Spec\"].fillna(\"UNKONWN\", inplace = True)"
   ]
  },
  {
   "cell_type": "code",
   "execution_count": 42,
   "id": "4ea1c0b8",
   "metadata": {
    "scrolled": true
   },
   "outputs": [
    {
     "data": {
      "text/plain": [
       "array(['White', 'UNKONWN', 'Tiger', 'Lemon', 'Bull', 'reef', 'nurse',\n",
       "       'bull', 'Wobbegong', 'Blacktip', 'white', 'Galapagos', 'small',\n",
       "       'Nurse', 'blue', 'Cookiecutter', 'Spinner', 'blacktip', 'whitetip',\n",
       "       'Sandtiger', 'Blue', 'gill', 'sevengill', 'Angel', 'dogfish',\n",
       "       'Mako', 'whaler', 'Reef', 'Silky', 'juvenile', 'Hammerhead',\n",
       "       'spinner', 'foot', 'Raggedtooth', 'Goblin', 'tiger', 'metre',\n",
       "       'Sandbar', 'Cow', 'Salmon', 'Porbeagle', 'Jackson', 'sandtiger',\n",
       "       'Sevengill', 'Zambesi', 'lemon', '30kg', 'hammerhead', 'Thresher',\n",
       "       'whale', 'cutter', 'Dusky', 'smoothhound', 'Basking', 'Sand',\n",
       "       'sandbar', 'same', 'copper', 'mako', 'brown', 'colored', 'cow',\n",
       "       'sand', 'captive', 'bonnethed', 'finned', 'dusky', 'Soupfin',\n",
       "       'young', 'Leopard', 'Small', 'Unidentified', 'grey', 'female',\n",
       "       'Two', 'gaffed', 'silvertip', 'Zambezi', 'silky', 'gray',\n",
       "       'thresher', 'Whale', 'Carpet', 'Copper', 'porbeagle', 'Dog', 'for',\n",
       "       'carpet', 'red', 'banjo', 'hooked', 'larger', 'Several',\n",
       "       'carcharinid', 'another', 'little', 'Bonita', 'Whaler', 'leopard',\n",
       "       'large', 'Shovelnose', 'nose', 'nosed', 'dog', 'cocktail',\n",
       "       'carcharhinid', 'whiptail', 'the', 'saw', 'from', 'ground',\n",
       "       'Silvertip', 'tipped'], dtype=object)"
      ]
     },
     "execution_count": 42,
     "metadata": {},
     "output_type": "execute_result"
    }
   ],
   "source": [
    "sharks.Spec.unique()"
   ]
  },
  {
   "cell_type": "markdown",
   "id": "2fbfdd4a",
   "metadata": {},
   "source": [
    "### country // Areas"
   ]
  },
  {
   "cell_type": "code",
   "execution_count": 43,
   "id": "133da0d6",
   "metadata": {},
   "outputs": [
    {
     "data": {
      "text/plain": [
       "Elqui Province                          1\n",
       "330 to 350 miles east of Wake Island    1\n",
       "Balearics                               1\n",
       "Manila                                  3\n",
       "St. Johns Reef                          3\n",
       "Antalya Province                        1\n",
       "Cyrenaica                               1\n",
       "Providenciales                          1\n",
       "Between Perth & Colombo                 1\n",
       "North of Pernambuco, Brazil             1\n",
       "Kagawa Prefecture                       1\n",
       "Isla Provedencia                        1\n",
       "Rhode Island                            7\n",
       "Paraiba                                 1\n",
       "Las Perlas archipelago                  1\n",
       "Aden                                    6\n",
       "Tongatapu                               1\n",
       "Fernando de Noronha                     1\n",
       "Pacific coast                           1\n",
       "Saipan                                  1\n",
       "Name: Area, dtype: int64"
      ]
     },
     "execution_count": 43,
     "metadata": {},
     "output_type": "execute_result"
    }
   ],
   "source": [
    "sharks.Area.value_counts().sample(20) #las areas nos interesan sobre todo Florida en comparación con el resto..."
   ]
  },
  {
   "cell_type": "markdown",
   "id": "27e49899",
   "metadata": {},
   "source": [
    "## Exportación"
   ]
  },
  {
   "cell_type": "code",
   "execution_count": 44,
   "id": "3ed0e1f4",
   "metadata": {},
   "outputs": [
    {
     "data": {
      "text/html": [
       "<div>\n",
       "<style scoped>\n",
       "    .dataframe tbody tr th:only-of-type {\n",
       "        vertical-align: middle;\n",
       "    }\n",
       "\n",
       "    .dataframe tbody tr th {\n",
       "        vertical-align: top;\n",
       "    }\n",
       "\n",
       "    .dataframe thead th {\n",
       "        text-align: right;\n",
       "    }\n",
       "</style>\n",
       "<table border=\"1\" class=\"dataframe\">\n",
       "  <thead>\n",
       "    <tr style=\"text-align: right;\">\n",
       "      <th></th>\n",
       "      <th>Date</th>\n",
       "      <th>Year</th>\n",
       "      <th>Type</th>\n",
       "      <th>Country</th>\n",
       "      <th>Area</th>\n",
       "      <th>Location</th>\n",
       "      <th>Activity</th>\n",
       "      <th>Sex</th>\n",
       "      <th>Age</th>\n",
       "      <th>Injury</th>\n",
       "      <th>Fatal</th>\n",
       "      <th>Time</th>\n",
       "      <th>Species</th>\n",
       "      <th>Year_D</th>\n",
       "      <th>Month_D</th>\n",
       "      <th>Act</th>\n",
       "      <th>Boat</th>\n",
       "      <th>Injur_Type</th>\n",
       "      <th>Spec</th>\n",
       "    </tr>\n",
       "  </thead>\n",
       "  <tbody>\n",
       "    <tr>\n",
       "      <th>0</th>\n",
       "      <td>25-Jun-2018</td>\n",
       "      <td>2018</td>\n",
       "      <td>Boat</td>\n",
       "      <td>USA</td>\n",
       "      <td>California</td>\n",
       "      <td>Oceanside, San Diego County</td>\n",
       "      <td>Paddling</td>\n",
       "      <td>F</td>\n",
       "      <td>57</td>\n",
       "      <td>No injury to occupant, outrigger canoe and pad...</td>\n",
       "      <td>N</td>\n",
       "      <td>18h00</td>\n",
       "      <td>White shark</td>\n",
       "      <td>2018</td>\n",
       "      <td>Jun</td>\n",
       "      <td>Paddling</td>\n",
       "      <td>True</td>\n",
       "      <td>No injury</td>\n",
       "      <td>White</td>\n",
       "    </tr>\n",
       "    <tr>\n",
       "      <th>1</th>\n",
       "      <td>18-Jun-2018</td>\n",
       "      <td>2018</td>\n",
       "      <td>Unprovoked</td>\n",
       "      <td>USA</td>\n",
       "      <td>Georgia</td>\n",
       "      <td>St. Simon Island, Glynn County</td>\n",
       "      <td>Standing</td>\n",
       "      <td>F</td>\n",
       "      <td>11</td>\n",
       "      <td>Minor injury to left thigh</td>\n",
       "      <td>N</td>\n",
       "      <td>14h00  -15h00</td>\n",
       "      <td>UNKNOWN</td>\n",
       "      <td>2018</td>\n",
       "      <td>Jun</td>\n",
       "      <td>Standing</td>\n",
       "      <td>False</td>\n",
       "      <td>Minor injuries</td>\n",
       "      <td>UNKONWN</td>\n",
       "    </tr>\n",
       "    <tr>\n",
       "      <th>3</th>\n",
       "      <td>08-Jun-2018</td>\n",
       "      <td>2018</td>\n",
       "      <td>Unprovoked</td>\n",
       "      <td>AUSTRALIA</td>\n",
       "      <td>New South Wales</td>\n",
       "      <td>Arrawarra Headland</td>\n",
       "      <td>Surfing</td>\n",
       "      <td>M</td>\n",
       "      <td>UNKNOWN</td>\n",
       "      <td>Minor injury to lower leg</td>\n",
       "      <td>N</td>\n",
       "      <td>UNKNOWN</td>\n",
       "      <td>2 m shark</td>\n",
       "      <td>2018</td>\n",
       "      <td>Jun</td>\n",
       "      <td>Surfing</td>\n",
       "      <td>False</td>\n",
       "      <td>Minor injuries</td>\n",
       "      <td>UNKONWN</td>\n",
       "    </tr>\n",
       "    <tr>\n",
       "      <th>4</th>\n",
       "      <td>04-Jun-2018</td>\n",
       "      <td>2018</td>\n",
       "      <td>Provoked</td>\n",
       "      <td>MEXICO</td>\n",
       "      <td>Colima</td>\n",
       "      <td>La Ticla</td>\n",
       "      <td>Free diving</td>\n",
       "      <td>M</td>\n",
       "      <td>UNKNOWN</td>\n",
       "      <td>Lacerations to leg &amp; hand shark PROVOKED INCIDENT</td>\n",
       "      <td>N</td>\n",
       "      <td>UNKNOWN</td>\n",
       "      <td>Tiger shark, 3m</td>\n",
       "      <td>2018</td>\n",
       "      <td>Jun</td>\n",
       "      <td>diving</td>\n",
       "      <td>False</td>\n",
       "      <td>Lacerations</td>\n",
       "      <td>Tiger</td>\n",
       "    </tr>\n",
       "    <tr>\n",
       "      <th>5</th>\n",
       "      <td>03-Jun-2018</td>\n",
       "      <td>2018</td>\n",
       "      <td>Unprovoked</td>\n",
       "      <td>AUSTRALIA</td>\n",
       "      <td>New South Wales</td>\n",
       "      <td>Flat Rock, Ballina</td>\n",
       "      <td>Kite surfing</td>\n",
       "      <td>M</td>\n",
       "      <td>UNKNOWN</td>\n",
       "      <td>No injury, board bitten</td>\n",
       "      <td>N</td>\n",
       "      <td>UNKNOWN</td>\n",
       "      <td>UNKNOWN</td>\n",
       "      <td>2018</td>\n",
       "      <td>Jun</td>\n",
       "      <td>surfing</td>\n",
       "      <td>False</td>\n",
       "      <td>No injury</td>\n",
       "      <td>UNKONWN</td>\n",
       "    </tr>\n",
       "    <tr>\n",
       "      <th>...</th>\n",
       "      <td>...</td>\n",
       "      <td>...</td>\n",
       "      <td>...</td>\n",
       "      <td>...</td>\n",
       "      <td>...</td>\n",
       "      <td>...</td>\n",
       "      <td>...</td>\n",
       "      <td>...</td>\n",
       "      <td>...</td>\n",
       "      <td>...</td>\n",
       "      <td>...</td>\n",
       "      <td>...</td>\n",
       "      <td>...</td>\n",
       "      <td>...</td>\n",
       "      <td>...</td>\n",
       "      <td>...</td>\n",
       "      <td>...</td>\n",
       "      <td>...</td>\n",
       "      <td>...</td>\n",
       "    </tr>\n",
       "    <tr>\n",
       "      <th>6297</th>\n",
       "      <td>Before 1903</td>\n",
       "      <td>0</td>\n",
       "      <td>Unprovoked</td>\n",
       "      <td>AUSTRALIA</td>\n",
       "      <td>Western Australia</td>\n",
       "      <td>Roebuck Bay</td>\n",
       "      <td>Diving</td>\n",
       "      <td>M</td>\n",
       "      <td>UNKNOWN</td>\n",
       "      <td>FATAL</td>\n",
       "      <td>Y</td>\n",
       "      <td>UNKNOWN</td>\n",
       "      <td>UNKNOWN</td>\n",
       "      <td>1903</td>\n",
       "      <td>UNKNOWN</td>\n",
       "      <td>Diving</td>\n",
       "      <td>False</td>\n",
       "      <td>Fatal injury</td>\n",
       "      <td>UNKONWN</td>\n",
       "    </tr>\n",
       "    <tr>\n",
       "      <th>6298</th>\n",
       "      <td>Before 1903</td>\n",
       "      <td>0</td>\n",
       "      <td>Unprovoked</td>\n",
       "      <td>AUSTRALIA</td>\n",
       "      <td>Western Australia</td>\n",
       "      <td>UNKNOWN</td>\n",
       "      <td>Pearl diving</td>\n",
       "      <td>M</td>\n",
       "      <td>UNKNOWN</td>\n",
       "      <td>FATAL</td>\n",
       "      <td>Y</td>\n",
       "      <td>UNKNOWN</td>\n",
       "      <td>UNKNOWN</td>\n",
       "      <td>1903</td>\n",
       "      <td>UNKNOWN</td>\n",
       "      <td>diving</td>\n",
       "      <td>False</td>\n",
       "      <td>Fatal injury</td>\n",
       "      <td>UNKONWN</td>\n",
       "    </tr>\n",
       "    <tr>\n",
       "      <th>6299</th>\n",
       "      <td>1900-1905</td>\n",
       "      <td>0</td>\n",
       "      <td>Unprovoked</td>\n",
       "      <td>USA</td>\n",
       "      <td>North Carolina</td>\n",
       "      <td>Ocracoke Inlet</td>\n",
       "      <td>Swimming</td>\n",
       "      <td>M</td>\n",
       "      <td>UNKNOWN</td>\n",
       "      <td>FATAL</td>\n",
       "      <td>Y</td>\n",
       "      <td>UNKNOWN</td>\n",
       "      <td>UNKNOWN</td>\n",
       "      <td>1900</td>\n",
       "      <td>UNKNOWN</td>\n",
       "      <td>Swimming</td>\n",
       "      <td>False</td>\n",
       "      <td>Fatal injury</td>\n",
       "      <td>UNKONWN</td>\n",
       "    </tr>\n",
       "    <tr>\n",
       "      <th>6300</th>\n",
       "      <td>1883-1889</td>\n",
       "      <td>0</td>\n",
       "      <td>Unprovoked</td>\n",
       "      <td>PANAMA</td>\n",
       "      <td>UNKNOWN</td>\n",
       "      <td>Panama Bay 8ºN, 79ºW</td>\n",
       "      <td>UNKNOWN</td>\n",
       "      <td>M</td>\n",
       "      <td>UNKNOWN</td>\n",
       "      <td>FATAL</td>\n",
       "      <td>Y</td>\n",
       "      <td>UNKNOWN</td>\n",
       "      <td>UNKNOWN</td>\n",
       "      <td>1883</td>\n",
       "      <td>UNKNOWN</td>\n",
       "      <td>UNKONWN</td>\n",
       "      <td>False</td>\n",
       "      <td>Fatal injury</td>\n",
       "      <td>UNKONWN</td>\n",
       "    </tr>\n",
       "    <tr>\n",
       "      <th>6301</th>\n",
       "      <td>1845-1853</td>\n",
       "      <td>0</td>\n",
       "      <td>Unprovoked</td>\n",
       "      <td>CEYLON (SRI LANKA)</td>\n",
       "      <td>Eastern Province</td>\n",
       "      <td>Below the English fort, Trincomalee</td>\n",
       "      <td>Swimming</td>\n",
       "      <td>M</td>\n",
       "      <td>15</td>\n",
       "      <td>FATAL. \"Shark bit him in half, carrying away t...</td>\n",
       "      <td>Y</td>\n",
       "      <td>UNKNOWN</td>\n",
       "      <td>UNKNOWN</td>\n",
       "      <td>1845</td>\n",
       "      <td>UNKNOWN</td>\n",
       "      <td>Swimming</td>\n",
       "      <td>False</td>\n",
       "      <td>Fatal injury</td>\n",
       "      <td>UNKONWN</td>\n",
       "    </tr>\n",
       "  </tbody>\n",
       "</table>\n",
       "<p>5755 rows × 19 columns</p>\n",
       "</div>"
      ],
      "text/plain": [
       "             Date  Year        Type             Country               Area  \\\n",
       "0     25-Jun-2018  2018        Boat                 USA         California   \n",
       "1     18-Jun-2018  2018  Unprovoked                 USA            Georgia   \n",
       "3     08-Jun-2018  2018  Unprovoked           AUSTRALIA    New South Wales   \n",
       "4     04-Jun-2018  2018    Provoked              MEXICO             Colima   \n",
       "5     03-Jun-2018  2018  Unprovoked           AUSTRALIA    New South Wales   \n",
       "...           ...   ...         ...                 ...                ...   \n",
       "6297  Before 1903     0  Unprovoked           AUSTRALIA  Western Australia   \n",
       "6298  Before 1903     0  Unprovoked           AUSTRALIA  Western Australia   \n",
       "6299    1900-1905     0  Unprovoked                 USA     North Carolina   \n",
       "6300    1883-1889     0  Unprovoked              PANAMA            UNKNOWN   \n",
       "6301    1845-1853     0  Unprovoked  CEYLON (SRI LANKA)   Eastern Province   \n",
       "\n",
       "                                 Location      Activity Sex      Age  \\\n",
       "0             Oceanside, San Diego County      Paddling   F       57   \n",
       "1          St. Simon Island, Glynn County      Standing   F       11   \n",
       "3                      Arrawarra Headland       Surfing   M  UNKNOWN   \n",
       "4                                La Ticla   Free diving   M  UNKNOWN   \n",
       "5                      Flat Rock, Ballina  Kite surfing   M  UNKNOWN   \n",
       "...                                   ...           ...  ..      ...   \n",
       "6297                          Roebuck Bay        Diving   M  UNKNOWN   \n",
       "6298                              UNKNOWN  Pearl diving   M  UNKNOWN   \n",
       "6299                       Ocracoke Inlet      Swimming   M  UNKNOWN   \n",
       "6300                 Panama Bay 8ºN, 79ºW       UNKNOWN   M  UNKNOWN   \n",
       "6301  Below the English fort, Trincomalee      Swimming   M       15   \n",
       "\n",
       "                                                 Injury Fatal           Time  \\\n",
       "0     No injury to occupant, outrigger canoe and pad...     N          18h00   \n",
       "1                            Minor injury to left thigh     N  14h00  -15h00   \n",
       "3                             Minor injury to lower leg     N        UNKNOWN   \n",
       "4     Lacerations to leg & hand shark PROVOKED INCIDENT     N        UNKNOWN   \n",
       "5                               No injury, board bitten     N        UNKNOWN   \n",
       "...                                                 ...   ...            ...   \n",
       "6297                                              FATAL     Y        UNKNOWN   \n",
       "6298                                              FATAL     Y        UNKNOWN   \n",
       "6299                                              FATAL     Y        UNKNOWN   \n",
       "6300                                              FATAL     Y        UNKNOWN   \n",
       "6301  FATAL. \"Shark bit him in half, carrying away t...     Y        UNKNOWN   \n",
       "\n",
       "              Species Year_D  Month_D       Act   Boat      Injur_Type  \\\n",
       "0         White shark   2018      Jun  Paddling   True       No injury   \n",
       "1             UNKNOWN   2018      Jun  Standing  False  Minor injuries   \n",
       "3           2 m shark   2018      Jun   Surfing  False  Minor injuries   \n",
       "4     Tiger shark, 3m   2018      Jun    diving  False     Lacerations   \n",
       "5             UNKNOWN   2018      Jun   surfing  False       No injury   \n",
       "...               ...    ...      ...       ...    ...             ...   \n",
       "6297          UNKNOWN   1903  UNKNOWN    Diving  False    Fatal injury   \n",
       "6298          UNKNOWN   1903  UNKNOWN    diving  False    Fatal injury   \n",
       "6299          UNKNOWN   1900  UNKNOWN  Swimming  False    Fatal injury   \n",
       "6300          UNKNOWN   1883  UNKNOWN   UNKONWN  False    Fatal injury   \n",
       "6301          UNKNOWN   1845  UNKNOWN  Swimming  False    Fatal injury   \n",
       "\n",
       "         Spec  \n",
       "0       White  \n",
       "1     UNKONWN  \n",
       "3     UNKONWN  \n",
       "4       Tiger  \n",
       "5     UNKONWN  \n",
       "...       ...  \n",
       "6297  UNKONWN  \n",
       "6298  UNKONWN  \n",
       "6299  UNKONWN  \n",
       "6300  UNKONWN  \n",
       "6301  UNKONWN  \n",
       "\n",
       "[5755 rows x 19 columns]"
      ]
     },
     "execution_count": 44,
     "metadata": {},
     "output_type": "execute_result"
    }
   ],
   "source": [
    "sharks"
   ]
  },
  {
   "cell_type": "code",
   "execution_count": 45,
   "id": "5c7af89c",
   "metadata": {},
   "outputs": [],
   "source": [
    "#exportarmos sharky\n",
    "sharks.to_csv(\"data/sharks.csv\")"
   ]
  },
  {
   "cell_type": "code",
   "execution_count": null,
   "id": "8b96f6db",
   "metadata": {},
   "outputs": [],
   "source": []
  }
 ],
 "metadata": {
  "kernelspec": {
   "display_name": "ironhack",
   "language": "python",
   "name": "ironhack"
  },
  "language_info": {
   "codemirror_mode": {
    "name": "ipython",
    "version": 3
   },
   "file_extension": ".py",
   "mimetype": "text/x-python",
   "name": "python",
   "nbconvert_exporter": "python",
   "pygments_lexer": "ipython3",
   "version": "3.8.5"
  }
 },
 "nbformat": 4,
 "nbformat_minor": 5
}
