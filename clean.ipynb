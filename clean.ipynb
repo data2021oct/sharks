{
 "cells": [
  {
   "cell_type": "code",
   "execution_count": 1,
   "id": "f623515c",
   "metadata": {},
   "outputs": [],
   "source": [
    "import pandas as pd\n",
    "import numpy as np\n",
    "import seaborn as sns\n",
    "import regex as re\n",
    "import src.cleanfun as cf"
   ]
  },
  {
   "cell_type": "code",
   "execution_count": 2,
   "id": "2a239412",
   "metadata": {},
   "outputs": [],
   "source": [
    "#cargamos csv\n",
    "sharks = pd.read_csv(\"data/attacks.csv\",encoding = \"ISO-8859-1\")"
   ]
  },
  {
   "cell_type": "code",
   "execution_count": 3,
   "id": "1aa06ce1",
   "metadata": {},
   "outputs": [],
   "source": [
    "# sharks.shape"
   ]
  },
  {
   "cell_type": "code",
   "execution_count": 4,
   "id": "238b21a4",
   "metadata": {},
   "outputs": [
    {
     "data": {
      "text/html": [
       "<div>\n",
       "<style scoped>\n",
       "    .dataframe tbody tr th:only-of-type {\n",
       "        vertical-align: middle;\n",
       "    }\n",
       "\n",
       "    .dataframe tbody tr th {\n",
       "        vertical-align: top;\n",
       "    }\n",
       "\n",
       "    .dataframe thead th {\n",
       "        text-align: right;\n",
       "    }\n",
       "</style>\n",
       "<table border=\"1\" class=\"dataframe\">\n",
       "  <thead>\n",
       "    <tr style=\"text-align: right;\">\n",
       "      <th></th>\n",
       "      <th>Case Number</th>\n",
       "      <th>Date</th>\n",
       "      <th>Year</th>\n",
       "      <th>Type</th>\n",
       "      <th>Country</th>\n",
       "      <th>Area</th>\n",
       "      <th>Location</th>\n",
       "      <th>Activity</th>\n",
       "      <th>Name</th>\n",
       "      <th>Sex</th>\n",
       "      <th>...</th>\n",
       "      <th>Species</th>\n",
       "      <th>Investigator or Source</th>\n",
       "      <th>pdf</th>\n",
       "      <th>href formula</th>\n",
       "      <th>href</th>\n",
       "      <th>Case Number.1</th>\n",
       "      <th>Case Number.2</th>\n",
       "      <th>original order</th>\n",
       "      <th>Unnamed: 22</th>\n",
       "      <th>Unnamed: 23</th>\n",
       "    </tr>\n",
       "  </thead>\n",
       "  <tbody>\n",
       "    <tr>\n",
       "      <th>15221</th>\n",
       "      <td>NaN</td>\n",
       "      <td>NaN</td>\n",
       "      <td>NaN</td>\n",
       "      <td>NaN</td>\n",
       "      <td>NaN</td>\n",
       "      <td>NaN</td>\n",
       "      <td>NaN</td>\n",
       "      <td>NaN</td>\n",
       "      <td>NaN</td>\n",
       "      <td>NaN</td>\n",
       "      <td>...</td>\n",
       "      <td>NaN</td>\n",
       "      <td>NaN</td>\n",
       "      <td>NaN</td>\n",
       "      <td>NaN</td>\n",
       "      <td>NaN</td>\n",
       "      <td>NaN</td>\n",
       "      <td>NaN</td>\n",
       "      <td>NaN</td>\n",
       "      <td>NaN</td>\n",
       "      <td>NaN</td>\n",
       "    </tr>\n",
       "    <tr>\n",
       "      <th>13619</th>\n",
       "      <td>NaN</td>\n",
       "      <td>NaN</td>\n",
       "      <td>NaN</td>\n",
       "      <td>NaN</td>\n",
       "      <td>NaN</td>\n",
       "      <td>NaN</td>\n",
       "      <td>NaN</td>\n",
       "      <td>NaN</td>\n",
       "      <td>NaN</td>\n",
       "      <td>NaN</td>\n",
       "      <td>...</td>\n",
       "      <td>NaN</td>\n",
       "      <td>NaN</td>\n",
       "      <td>NaN</td>\n",
       "      <td>NaN</td>\n",
       "      <td>NaN</td>\n",
       "      <td>NaN</td>\n",
       "      <td>NaN</td>\n",
       "      <td>NaN</td>\n",
       "      <td>NaN</td>\n",
       "      <td>NaN</td>\n",
       "    </tr>\n",
       "    <tr>\n",
       "      <th>1826</th>\n",
       "      <td>2002.09.21.b</td>\n",
       "      <td>21-Sep-2002</td>\n",
       "      <td>2002.0</td>\n",
       "      <td>Unprovoked</td>\n",
       "      <td>USA</td>\n",
       "      <td>Oregon</td>\n",
       "      <td>Cape Kiwanda</td>\n",
       "      <td>Boogie boarding or Surfing</td>\n",
       "      <td>Garry Turner</td>\n",
       "      <td>M</td>\n",
       "      <td>...</td>\n",
       "      <td>2.4 m [8'] shark</td>\n",
       "      <td>R. Collier, GSAF</td>\n",
       "      <td>2002.09.21.b-GarryTurner.pdf</td>\n",
       "      <td>http://sharkattackfile.net/spreadsheets/pdf_di...</td>\n",
       "      <td>http://sharkattackfile.net/spreadsheets/pdf_di...</td>\n",
       "      <td>2002.09.21.b</td>\n",
       "      <td>2002.09.21.b</td>\n",
       "      <td>4477.0</td>\n",
       "      <td>NaN</td>\n",
       "      <td>NaN</td>\n",
       "    </tr>\n",
       "    <tr>\n",
       "      <th>13190</th>\n",
       "      <td>NaN</td>\n",
       "      <td>NaN</td>\n",
       "      <td>NaN</td>\n",
       "      <td>NaN</td>\n",
       "      <td>NaN</td>\n",
       "      <td>NaN</td>\n",
       "      <td>NaN</td>\n",
       "      <td>NaN</td>\n",
       "      <td>NaN</td>\n",
       "      <td>NaN</td>\n",
       "      <td>...</td>\n",
       "      <td>NaN</td>\n",
       "      <td>NaN</td>\n",
       "      <td>NaN</td>\n",
       "      <td>NaN</td>\n",
       "      <td>NaN</td>\n",
       "      <td>NaN</td>\n",
       "      <td>NaN</td>\n",
       "      <td>NaN</td>\n",
       "      <td>NaN</td>\n",
       "      <td>NaN</td>\n",
       "    </tr>\n",
       "    <tr>\n",
       "      <th>20548</th>\n",
       "      <td>NaN</td>\n",
       "      <td>NaN</td>\n",
       "      <td>NaN</td>\n",
       "      <td>NaN</td>\n",
       "      <td>NaN</td>\n",
       "      <td>NaN</td>\n",
       "      <td>NaN</td>\n",
       "      <td>NaN</td>\n",
       "      <td>NaN</td>\n",
       "      <td>NaN</td>\n",
       "      <td>...</td>\n",
       "      <td>NaN</td>\n",
       "      <td>NaN</td>\n",
       "      <td>NaN</td>\n",
       "      <td>NaN</td>\n",
       "      <td>NaN</td>\n",
       "      <td>NaN</td>\n",
       "      <td>NaN</td>\n",
       "      <td>NaN</td>\n",
       "      <td>NaN</td>\n",
       "      <td>NaN</td>\n",
       "    </tr>\n",
       "  </tbody>\n",
       "</table>\n",
       "<p>5 rows × 24 columns</p>\n",
       "</div>"
      ],
      "text/plain": [
       "        Case Number         Date    Year        Type Country    Area  \\\n",
       "15221           NaN          NaN     NaN         NaN     NaN     NaN   \n",
       "13619           NaN          NaN     NaN         NaN     NaN     NaN   \n",
       "1826   2002.09.21.b  21-Sep-2002  2002.0  Unprovoked     USA  Oregon   \n",
       "13190           NaN          NaN     NaN         NaN     NaN     NaN   \n",
       "20548           NaN          NaN     NaN         NaN     NaN     NaN   \n",
       "\n",
       "           Location                    Activity          Name Sex   ...  \\\n",
       "15221           NaN                         NaN           NaN  NaN  ...   \n",
       "13619           NaN                         NaN           NaN  NaN  ...   \n",
       "1826   Cape Kiwanda  Boogie boarding or Surfing  Garry Turner    M  ...   \n",
       "13190           NaN                         NaN           NaN  NaN  ...   \n",
       "20548           NaN                         NaN           NaN  NaN  ...   \n",
       "\n",
       "               Species  Investigator or Source                           pdf  \\\n",
       "15221               NaN                    NaN                           NaN   \n",
       "13619               NaN                    NaN                           NaN   \n",
       "1826   2.4 m [8'] shark     R. Collier, GSAF    2002.09.21.b-GarryTurner.pdf   \n",
       "13190               NaN                    NaN                           NaN   \n",
       "20548               NaN                    NaN                           NaN   \n",
       "\n",
       "                                            href formula  \\\n",
       "15221                                                NaN   \n",
       "13619                                                NaN   \n",
       "1826   http://sharkattackfile.net/spreadsheets/pdf_di...   \n",
       "13190                                                NaN   \n",
       "20548                                                NaN   \n",
       "\n",
       "                                                    href Case Number.1  \\\n",
       "15221                                                NaN           NaN   \n",
       "13619                                                NaN           NaN   \n",
       "1826   http://sharkattackfile.net/spreadsheets/pdf_di...  2002.09.21.b   \n",
       "13190                                                NaN           NaN   \n",
       "20548                                                NaN           NaN   \n",
       "\n",
       "      Case Number.2 original order Unnamed: 22 Unnamed: 23  \n",
       "15221           NaN            NaN         NaN         NaN  \n",
       "13619           NaN            NaN         NaN         NaN  \n",
       "1826   2002.09.21.b         4477.0         NaN         NaN  \n",
       "13190           NaN            NaN         NaN         NaN  \n",
       "20548           NaN            NaN         NaN         NaN  \n",
       "\n",
       "[5 rows x 24 columns]"
      ]
     },
     "execution_count": 4,
     "metadata": {},
     "output_type": "execute_result"
    }
   ],
   "source": [
    "sharks.sample(5)"
   ]
  },
  {
   "cell_type": "code",
   "execution_count": 5,
   "id": "2441ea0f",
   "metadata": {},
   "outputs": [
    {
     "data": {
      "text/plain": [
       "Unprovoked      4595\n",
       "Provoked         574\n",
       "Invalid          547\n",
       "Sea Disaster     239\n",
       "Boating          203\n",
       "Boat             137\n",
       "Questionable       2\n",
       "Boatomg            1\n",
       "Name: Type, dtype: int64"
      ]
     },
     "execution_count": 5,
     "metadata": {},
     "output_type": "execute_result"
    }
   ],
   "source": [
    "sharks.Type.value_counts()"
   ]
  },
  {
   "cell_type": "code",
   "execution_count": 6,
   "id": "44e0ea4c",
   "metadata": {},
   "outputs": [],
   "source": [
    "#eliminamos todas las columnas y filas que todos sus valores sean nulos\n",
    "sharks.dropna(how=\"all\", inplace=True)\n",
    "sharks.dropna(how=\"all\",axis = 1, inplace=True)"
   ]
  },
  {
   "cell_type": "markdown",
   "id": "6323db9a",
   "metadata": {},
   "source": [
    "# Hipótesis\n",
    "- hipotesis 1 los ataques de tiburones han icrmentado según han ido avanzando los años\n",
    "- hipótesis 2 los ataquesde tiburones atacan suelen atacar a embarcaciones\n",
    "- [hipóstesis 3 Florida es la capital mundial de los ataques de tiburones](https://www.lavanguardia.com/ocio/viajes/20210407/6631447/6-playas-mas-peligrosas-mundo.html)\n",
    "- [hipótesis 4 ¿Es posible el ataque de tiburón en la costa española?](https://www.mundo-geo.es/naturaleza/es-posible-ataque-tiburon-en-costa-espanola_238643_102.html)"
   ]
  },
  {
   "cell_type": "code",
   "execution_count": 7,
   "id": "3da45410",
   "metadata": {},
   "outputs": [
    {
     "data": {
      "text/plain": [
       "Index(['Case Number', 'Date', 'Year', 'Type', 'Country', 'Area', 'Location',\n",
       "       'Activity', 'Name', 'Sex ', 'Age', 'Injury', 'Fatal (Y/N)', 'Time',\n",
       "       'Species ', 'Investigator or Source', 'pdf', 'href formula', 'href',\n",
       "       'Case Number.1', 'Case Number.2', 'original order', 'Unnamed: 22',\n",
       "       'Unnamed: 23'],\n",
       "      dtype='object')"
      ]
     },
     "execution_count": 7,
     "metadata": {},
     "output_type": "execute_result"
    }
   ],
   "source": [
    "#compruebo qué colmunas tienen datos interesantes para mis hipótesis y borro las que no me hacen ninguna falta.\n",
    "sharks.columns"
   ]
  },
  {
   "cell_type": "code",
   "execution_count": 8,
   "id": "a44d775d",
   "metadata": {},
   "outputs": [],
   "source": [
    "columnas_no = ['Case Number','Investigator or Source','pdf', 'href formula',  'href',  'Case Number.1', 'Case Number.2', 'original order', 'Unnamed: 22', 'Unnamed: 23'] \n",
    "sharks.drop(columnas_no, axis=1, inplace=True)"
   ]
  },
  {
   "cell_type": "code",
   "execution_count": 9,
   "id": "9fe21632",
   "metadata": {},
   "outputs": [],
   "source": [
    "#ahora que hemos borrado columnas volvemos a hacer una pasada a los registros cuyos datos son todos nulos y borramos estas filas\n",
    "sharks.dropna(how=\"all\", inplace=True)"
   ]
  },
  {
   "cell_type": "code",
   "execution_count": 10,
   "id": "7d828621",
   "metadata": {},
   "outputs": [],
   "source": [
    "#cambio nombre de algunas columnas que tienen espacios o caracteres especiales en el nombre\n",
    "#\"Sex \" \"Species \" \"Fatal (Y/N)\"\n",
    "cols = [\"Sex \",\"Species \",\"Fatal (Y/N)\"]\n",
    "new_names = {\"Sex \" : \"Sex\",\n",
    "                 \"Species \" : \"Species\",\n",
    "                 \"Fatal (Y/N)\" : \"Fatal\"}\n",
    "sharks.rename(columns = new_names, inplace=True)"
   ]
  },
  {
   "cell_type": "code",
   "execution_count": 11,
   "id": "9ee7596a",
   "metadata": {},
   "outputs": [],
   "source": [
    "#segundo repaso a datos para ver si borramos alguna columna más que no me de información necesaria para las hipótesis\n",
    "sharks.sample(20)\n",
    "sharks.drop([\"Name\"],axis=1, inplace=True)"
   ]
  },
  {
   "cell_type": "markdown",
   "id": "2651eedc",
   "metadata": {},
   "source": [
    "### Limpieza de datos nulos"
   ]
  },
  {
   "cell_type": "code",
   "execution_count": 12,
   "id": "1e8193a6",
   "metadata": {
    "scrolled": true
   },
   "outputs": [
    {
     "data": {
      "text/plain": [
       "Date           0\n",
       "Year           2\n",
       "Type           4\n",
       "Country       50\n",
       "Area         455\n",
       "Location     540\n",
       "Activity     544\n",
       "Sex          565\n",
       "Age         2831\n",
       "Injury        28\n",
       "Fatal        539\n",
       "Time        3354\n",
       "Species     2838\n",
       "dtype: int64"
      ]
     },
     "execution_count": 12,
     "metadata": {},
     "output_type": "execute_result"
    }
   ],
   "source": [
    "#miramos cuantos datos nulos hay en cda columna.\n",
    "sharks.isna().sum()"
   ]
  },
  {
   "cell_type": "markdown",
   "id": "5e61d7c5",
   "metadata": {},
   "source": [
    "#### rellenamos los nulos en función de los datos que contienen las columnas\n"
   ]
  },
  {
   "cell_type": "code",
   "execution_count": 13,
   "id": "3f81a6e9",
   "metadata": {},
   "outputs": [],
   "source": [
    "#Year\n",
    "sharks.Year.unique()\n",
    "#rellenamos años vacíos con 0\n",
    "sharks.Year.fillna(0.0,inplace= True)\n",
    "#convertirmos tipo de dato (float) a int.\n",
    "sharks.Year = sharks.Year.astype(dtype = \"int64\")"
   ]
  },
  {
   "cell_type": "code",
   "execution_count": 14,
   "id": "e005500b",
   "metadata": {},
   "outputs": [],
   "source": [
    "#type\n",
    "sharks.Type.unique() #['Boating', 'Unprovoked', 'Invalid', 'Provoked', 'Questionable','Sea Disaster', nan, 'Boat', 'Boatomg']\n",
    "sharks[sharks[\"Type\"] == \"Invalid\"].sample(20)\n",
    "#invalid NO nos sirve para los nulos porque es para ataques que no fueron de tiburón\n",
    "sharks.Type.fillna(\"UNKNOWN\",inplace= True)\n",
    "sharks.Type = sharks.Type.str.strip() #borramos espacios\n",
    "sharks = sharks[sharks[\"Type\"] != \"Invalid\"] #eliminamos los registros que que equivalen a \"Invalid\" ya que no son ataques de tibruón\n",
    "#nos da mucha información si el ataque fue en embarcación o direcgtamente a \"nadador\""
   ]
  },
  {
   "cell_type": "code",
   "execution_count": 15,
   "id": "422c7122",
   "metadata": {},
   "outputs": [],
   "source": [
    "#Country, Area y Location -> nans == UNKNOWN\n",
    "sharks[\"Country\"].fillna(\"UNKNOWN\", inplace = True)\n",
    "sharks[\"Area\"].fillna(\"UNKNOWN\", inplace = True)\n",
    "sharks[\"Location\"].fillna(\"UNKNOWN\", inplace = True)\n",
    "sharks.Country = sharks.Country.str.strip()\n",
    "sharks.Area = sharks.Area.str.strip()\n",
    "sharks.Location = sharks.Location.str.strip()"
   ]
  },
  {
   "cell_type": "code",
   "execution_count": 16,
   "id": "a607df8e",
   "metadata": {},
   "outputs": [],
   "source": [
    "#activity\n",
    "list(sharks.Activity.unique())\n",
    "#de esta columna podemos sacar datos sobre si el tiburón atacó a embarcación o persona.\n",
    "sharks[\"Activity\"].fillna(\"UNKNOWN\", inplace = True)\n",
    "sharks.Activity = sharks.Activity.str.strip()"
   ]
  },
  {
   "cell_type": "code",
   "execution_count": 17,
   "id": "c600a4ba",
   "metadata": {},
   "outputs": [],
   "source": [
    "#sex\n",
    "sharks.Sex.unique()\n",
    "#si el sexo de la víctima es desconocido lo rellenamos con \"X\"\n",
    "#además queremos que se queden tres datos únicos -> M,F,X\n",
    "sharks.Sex.fillna(\"X\",inplace = True)\n",
    "sharks.Sex = sharks.Sex.str.strip() #borramos espacios vacíos antes y después de cada cadena.\n",
    "sharks.Sex.unique() #['F', 'M', 'X', 'lli', 'N', '.'] > lli, N y . == X\n",
    "sharks[\"Sex\"].replace('lli',\"X\",inplace=True)\n",
    "sharks[\"Sex\"].replace('.',\"X\",inplace=True)\n",
    "sharks[\"Sex\"].replace('N',\"X\",inplace=True)"
   ]
  },
  {
   "cell_type": "code",
   "execution_count": 18,
   "id": "aa03b30c",
   "metadata": {},
   "outputs": [],
   "source": [
    "#Age\n",
    "sharks.Age.unique()\n",
    "#rellenamos nans con \"UNKNOWN\" porque 0 puede confundir la media si luego necesitamos usarla.\n",
    "sharks.Age.fillna(\"UNKNOWN\",inplace= True)\n",
    "sharks.Age = sharks.Age.str.strip()"
   ]
  },
  {
   "cell_type": "code",
   "execution_count": 19,
   "id": "2212adf1",
   "metadata": {},
   "outputs": [],
   "source": [
    "#Injury > nan = UNKNOWN\n",
    "sharks.Injury.unique()\n",
    "sharks[\"Injury\"].fillna(\"UNKNOWN\", inplace = True)"
   ]
  },
  {
   "cell_type": "code",
   "execution_count": 20,
   "id": "122a3266",
   "metadata": {},
   "outputs": [
    {
     "data": {
      "text/plain": [
       "array(['N', 'Y', 'UNKNOWN'], dtype=object)"
      ]
     },
     "execution_count": 20,
     "metadata": {},
     "output_type": "execute_result"
    }
   ],
   "source": [
    "#Fatal\n",
    "sharks.Fatal.unique\n",
    "#nulos = UNKNOWN\n",
    "sharks[\"Fatal\"].fillna(\"UNKNOWN\", inplace = True)\n",
    "sharks.Fatal = sharks.Fatal.str.strip()\n",
    "sharks.Fatal.unique() #comprobar registros con FAtal == 'M', '2017', 'y'\n",
    "sharks[(sharks[\"Fatal\"] == 'M')|(sharks[\"Fatal\"] == \"2017\")|(sharks[\"Fatal\"] == \"y\")].Injury.unique\n",
    "sharks[\"Fatal\"].replace('M',\"N\",inplace=True)\n",
    "sharks[\"Fatal\"].replace('y',\"Y\",inplace=True)\n",
    "sharks[\"Fatal\"].replace('2017',\"N\",inplace=True)\n",
    "sharks.Fatal.unique() #['N', 'Y', 'UNKNOWN']"
   ]
  },
  {
   "cell_type": "code",
   "execution_count": 21,
   "id": "ac6f0b98",
   "metadata": {},
   "outputs": [],
   "source": [
    "#Time\n",
    "sharks.Time.unique()\n",
    "#nulos = UNKNOWN\n",
    "sharks[\"Time\"].fillna(\"UNKNOWN\", inplace = True)\n",
    "#puede que esta columna no la utlicemos para ningún análisis. No nos interesan los datos tan exactos de la hora del ataque."
   ]
  },
  {
   "cell_type": "code",
   "execution_count": 22,
   "id": "03c40ecc",
   "metadata": {},
   "outputs": [],
   "source": [
    "#Species\n",
    "list(sharks.Species.unique())\n",
    "#nulos = UNKNOWN\n",
    "sharks[\"Species\"].fillna(\"UNKNOWN\", inplace = True)\n",
    "sharks.Species = sharks.Species.str.strip()"
   ]
  },
  {
   "cell_type": "code",
   "execution_count": 23,
   "id": "201269d8",
   "metadata": {},
   "outputs": [
    {
     "data": {
      "text/plain": [
       "Date        0\n",
       "Year        0\n",
       "Type        0\n",
       "Country     0\n",
       "Area        0\n",
       "Location    0\n",
       "Activity    0\n",
       "Sex         0\n",
       "Age         0\n",
       "Injury      0\n",
       "Fatal       0\n",
       "Time        0\n",
       "Species     0\n",
       "dtype: int64"
      ]
     },
     "execution_count": 23,
     "metadata": {},
     "output_type": "execute_result"
    }
   ],
   "source": [
    "sharks.isna().sum()"
   ]
  },
  {
   "cell_type": "markdown",
   "id": "871eb9a3",
   "metadata": {},
   "source": [
    "### Procesamos el texto de las columnas"
   ]
  },
  {
   "cell_type": "markdown",
   "id": "1ce7354c",
   "metadata": {},
   "source": [
    "##### Date, Year."
   ]
  },
  {
   "cell_type": "code",
   "execution_count": 24,
   "id": "c0914c0a",
   "metadata": {},
   "outputs": [],
   "source": [
    "sharks.Date.value_counts()\n",
    "#de la columna Date extraemos años y meses para nuevas columnas\n",
    "sharks[\"Year_D\"] = sharks[\"Date\"].str.extract(r'(\\d{4})')\n",
    "sharks[\"Month_D\"] = sharks[\"Date\"].str.extract(r'([A-Z][a-z][a-z]-\\d{4})')\n",
    "sharks[\"Month_D\"] = sharks[\"Month_D\"].str.extract(r'([A-Z][a-z][a-z])')\n",
    "#volvemos a rellenar los nulos que quedan \n",
    "#sharks[\"Date\"].fillna(\"UNKNOWN\", inplace = True)\n",
    "sharks.Year_D.fillna(\"UNKNOWN\",inplace= True)\n",
    "sharks.Month_D.fillna(\"UNKNOWN\",inplace= True)\n",
    "#convertimos los strings de Year_D enteros\n",
    "sharks.Year_D = sharks.Year_D.apply(cf.entero_if)\n",
    "sharks[\"Month_D\"] = sharks[\"Month_D\"].str.upper()"
   ]
  },
  {
   "cell_type": "markdown",
   "id": "3b44c60d",
   "metadata": {},
   "source": [
    "##### Type"
   ]
  },
  {
   "cell_type": "code",
   "execution_count": 25,
   "id": "5256429d",
   "metadata": {},
   "outputs": [
    {
     "data": {
      "text/plain": [
       "array(['Boating', 'Unprovoked', 'Provoked', 'Questionable',\n",
       "       'Sea Disaster', 'UNKNOWN', 'Boat', 'Boatomg'], dtype=object)"
      ]
     },
     "execution_count": 25,
     "metadata": {},
     "output_type": "execute_result"
    }
   ],
   "source": [
    "sharks.Type.unique()"
   ]
  },
  {
   "cell_type": "code",
   "execution_count": 26,
   "id": "11c1c9dd",
   "metadata": {},
   "outputs": [
    {
     "data": {
      "text/plain": [
       "array(['Boat', 'Unprovoked', 'Provoked', 'Questionable', 'Sea Disaster',\n",
       "       'UNKNOWN'], dtype=object)"
      ]
     },
     "execution_count": 26,
     "metadata": {},
     "output_type": "execute_result"
    }
   ],
   "source": [
    "#Boating, Boat y Boatomg == mismo dato \"Boat\"\n",
    "sharks[\"Type\"] = sharks[\"Type\"].str.replace((\".*[Bb](OAT|oat).*\"),\"Boat\", regex=True)\n",
    "sharks.Type.unique()"
   ]
  },
  {
   "cell_type": "markdown",
   "id": "e983044c",
   "metadata": {},
   "source": [
    "#####  Activity"
   ]
  },
  {
   "cell_type": "code",
   "execution_count": 27,
   "id": "68e43f63",
   "metadata": {},
   "outputs": [],
   "source": [
    "#creamos una nueva columna \"Act\" strings que acaban en \"ing\" de \"Activity\"\n",
    "sharks[\"Act\"] = sharks.Activity.str.extract(r'(\\w+ing)+')\n",
    "#rellenamos los nuevos nans\n",
    "sharks[\"Act\"].fillna(\"UNKONWN\", inplace = True)\n",
    "sharks[\"Act\"]= sharks[\"Act\"].str.upper()"
   ]
  },
  {
   "cell_type": "code",
   "execution_count": 28,
   "id": "3dbe18e0",
   "metadata": {},
   "outputs": [
    {
     "data": {
      "text/plain": [
       "SURFING         1041\n",
       "SWIMMING         994\n",
       "UNKONWN          761\n",
       "FISHING          672\n",
       "DIVING           470\n",
       "SPEARFISHING     376\n",
       "BATHING          175\n",
       "WADING           157\n",
       "BOARDING         130\n",
       "STANDING         129\n",
       "Name: Act, dtype: int64"
      ]
     },
     "execution_count": 28,
     "metadata": {},
     "output_type": "execute_result"
    }
   ],
   "source": [
    "sharks.Act.value_counts().head(10)"
   ]
  },
  {
   "cell_type": "markdown",
   "id": "86737547",
   "metadata": {},
   "source": [
    "###### Activity -> \"Fishing\"\n",
    "- como en Type tenemos \"Boat\" para saber si hay ataques direcatemente a los barcos, pero luego en activity \"Fishing\" la mayoría son desde barcos, vamos a crear una columna \"Boat\" incluyendo todos los registros que son type \"Boat\" además de los que no son \"Boat\" pero son Fishin"
   ]
  },
  {
   "cell_type": "code",
   "execution_count": 29,
   "id": "076a4893",
   "metadata": {},
   "outputs": [],
   "source": [
    "#filtramos todos registros que son tipo Boat y de los que no son tipo Boat pero son activity fishing para ver cuantos realemnte van en barco\n",
    "sharks[\"Boat\"] = np.where(((sharks[\"Type\"] == \"Boat\")|((sharks[\"Type\"] != \"Boat\") & (sharks[\"Act\"] == \"FISHING\"))),\"Yes\",\"No\")"
   ]
  },
  {
   "cell_type": "code",
   "execution_count": 30,
   "id": "af289f06",
   "metadata": {
    "scrolled": true
   },
   "outputs": [
    {
     "data": {
      "text/plain": [
       "No     4918\n",
       "Yes     837\n",
       "Name: Boat, dtype: int64"
      ]
     },
     "execution_count": 30,
     "metadata": {},
     "output_type": "execute_result"
    }
   ],
   "source": [
    "sharks.Boat.value_counts()"
   ]
  },
  {
   "cell_type": "markdown",
   "id": "9307f744",
   "metadata": {},
   "source": [
    "#####  Sex"
   ]
  },
  {
   "cell_type": "code",
   "execution_count": 31,
   "id": "e1cceb70",
   "metadata": {},
   "outputs": [
    {
     "data": {
      "text/plain": [
       "array(['F', 'M', 'X'], dtype=object)"
      ]
     },
     "execution_count": 31,
     "metadata": {},
     "output_type": "execute_result"
    }
   ],
   "source": [
    "sharks.Sex.unique() #no hacemos nada más"
   ]
  },
  {
   "cell_type": "markdown",
   "id": "fbc0bd51",
   "metadata": {},
   "source": [
    "#####  Age"
   ]
  },
  {
   "cell_type": "code",
   "execution_count": 32,
   "id": "4d862249",
   "metadata": {},
   "outputs": [
    {
     "data": {
      "text/plain": [
       "array(['57', '11', 'UNKNOWN', '18', '52', '15', '12', '32', '10', '34',\n",
       "       '30', '60', '33', '29', '54', '41', '37', '19', '25', '69', '38',\n",
       "       '55', '35', '45', '40', '28', '20', '24', '26', '49', '14', '22',\n",
       "       '7', '31', '17', '13', '42', '3', '50', '46', '16', '82', '48',\n",
       "       '21', '51', '39', '58', '47', '61', '65', '73', '36', '66', '43',\n",
       "       '9', '72', '59', '6', '64', '23', '71', '44', '27', '62', '68',\n",
       "       '63', '70', '18 months', '53', '8', '77', '74', '56', '5', '86',\n",
       "       '84', '87', '75', '9 months', '1', '81', '78', '2'], dtype=object)"
      ]
     },
     "execution_count": 32,
     "metadata": {},
     "output_type": "execute_result"
    }
   ],
   "source": [
    "#dejamos solos los valores de edades de Age:\n",
    "sharks.Age = sharks.Age.apply(cf.edades)\n",
    "sharks.Age.unique()"
   ]
  },
  {
   "cell_type": "markdown",
   "id": "3ae4a543",
   "metadata": {},
   "source": [
    "#####  Injury"
   ]
  },
  {
   "cell_type": "code",
   "execution_count": 33,
   "id": "81e05090",
   "metadata": {},
   "outputs": [],
   "source": [
    "#creamos nueva columna con un resumen de tipos de lesiones\n",
    "sharks[\"Injur_Type\"] = sharks.Injury.apply(cf.actividades)\n",
    "sharks[\"Injur_Type\"] = sharks[\"Injur_Type\"].str.upper()"
   ]
  },
  {
   "cell_type": "code",
   "execution_count": 34,
   "id": "6663bc72",
   "metadata": {},
   "outputs": [
    {
     "data": {
      "text/plain": [
       "array(['NO INJURY', 'MINOR INJURIES', 'LACERATIONS', 'FATAL INJURY',\n",
       "       'BITTEN', 'INJURED', 'OTHERS', 'PUNCTURED', 'LIMB SEVERED',\n",
       "       'NO DETAILS', 'UNKNOWN'], dtype=object)"
      ]
     },
     "execution_count": 34,
     "metadata": {},
     "output_type": "execute_result"
    }
   ],
   "source": [
    "sharks.Injur_Type.unique()"
   ]
  },
  {
   "cell_type": "markdown",
   "id": "239f449b",
   "metadata": {},
   "source": [
    "##### Fatal"
   ]
  },
  {
   "cell_type": "code",
   "execution_count": 35,
   "id": "72786715",
   "metadata": {},
   "outputs": [
    {
     "data": {
      "text/plain": [
       "array(['N', 'Y', 'UNKNOWN'], dtype=object)"
      ]
     },
     "execution_count": 35,
     "metadata": {},
     "output_type": "execute_result"
    }
   ],
   "source": [
    "sharks.Fatal.unique() #no hacemos nada más"
   ]
  },
  {
   "cell_type": "markdown",
   "id": "f0455636",
   "metadata": {},
   "source": [
    "##### Time\n",
    "no vamos a usar esta columna, porque para nuestros datos no nos intersa a qué hora pasaron los incidentes"
   ]
  },
  {
   "cell_type": "markdown",
   "id": "220f171e",
   "metadata": {},
   "source": [
    "#####  species"
   ]
  },
  {
   "cell_type": "code",
   "execution_count": 36,
   "id": "5924b8c1",
   "metadata": {},
   "outputs": [],
   "source": [
    "#extraemos en una nueva columna en la que extraemos las especies de los tiburones desde la columna \"Species\"\n",
    "sharks[\"Spec\"] = sharks.Species.str.extract(r'(\\w{3,}(?= shark))')"
   ]
  },
  {
   "cell_type": "code",
   "execution_count": 37,
   "id": "e8698795",
   "metadata": {},
   "outputs": [],
   "source": [
    "sharks[\"Spec\"].fillna(\"UNKONWN\", inplace = True)\n",
    "sharks[\"Spec\"] = sharks[\"Spec\"].str.upper()"
   ]
  },
  {
   "cell_type": "code",
   "execution_count": 38,
   "id": "4ea1c0b8",
   "metadata": {
    "scrolled": true
   },
   "outputs": [
    {
     "data": {
      "text/plain": [
       "UNKONWN    3778\n",
       "WHITE       627\n",
       "TIGER       258\n",
       "BULL        176\n",
       "NURSE        97\n",
       "Name: Spec, dtype: int64"
      ]
     },
     "execution_count": 38,
     "metadata": {},
     "output_type": "execute_result"
    }
   ],
   "source": [
    "sharks.Spec.value_counts().head(5)"
   ]
  },
  {
   "cell_type": "markdown",
   "id": "2fbfdd4a",
   "metadata": {},
   "source": [
    "#####  country // Areas"
   ]
  },
  {
   "cell_type": "code",
   "execution_count": 39,
   "id": "133da0d6",
   "metadata": {},
   "outputs": [
    {
     "data": {
      "text/plain": [
       "FLORIDA                  971\n",
       "NEW SOUTH WALES          436\n",
       "UNKNOWN                  408\n",
       "QUEENSLAND               287\n",
       "HAWAII                   263\n",
       "CALIFORNIA               260\n",
       "WESTERN CAPE PROVINCE    185\n",
       "KWAZULU-NATAL            171\n",
       "WESTERN AUSTRALIA        170\n",
       "EASTERN CAPE PROVINCE    148\n",
       "Name: Area, dtype: int64"
      ]
     },
     "execution_count": 39,
     "metadata": {},
     "output_type": "execute_result"
    }
   ],
   "source": [
    "sharks[\"Country\"] = sharks[\"Country\"].str.upper()\n",
    "sharks[\"Area\"] = sharks[\"Area\"].str.upper()\n",
    "sharks.Area.value_counts().head(10) #las areas nos interesan sobre todo Florida en comparación con el resto..."
   ]
  },
  {
   "cell_type": "markdown",
   "id": "27e49899",
   "metadata": {},
   "source": [
    "## Exportación"
   ]
  },
  {
   "cell_type": "code",
   "execution_count": 40,
   "id": "3ed0e1f4",
   "metadata": {
    "scrolled": false
   },
   "outputs": [
    {
     "data": {
      "text/html": [
       "<div>\n",
       "<style scoped>\n",
       "    .dataframe tbody tr th:only-of-type {\n",
       "        vertical-align: middle;\n",
       "    }\n",
       "\n",
       "    .dataframe tbody tr th {\n",
       "        vertical-align: top;\n",
       "    }\n",
       "\n",
       "    .dataframe thead th {\n",
       "        text-align: right;\n",
       "    }\n",
       "</style>\n",
       "<table border=\"1\" class=\"dataframe\">\n",
       "  <thead>\n",
       "    <tr style=\"text-align: right;\">\n",
       "      <th></th>\n",
       "      <th>Date</th>\n",
       "      <th>Year</th>\n",
       "      <th>Type</th>\n",
       "      <th>Country</th>\n",
       "      <th>Area</th>\n",
       "      <th>Location</th>\n",
       "      <th>Activity</th>\n",
       "      <th>Sex</th>\n",
       "      <th>Age</th>\n",
       "      <th>Injury</th>\n",
       "      <th>Fatal</th>\n",
       "      <th>Time</th>\n",
       "      <th>Species</th>\n",
       "      <th>Year_D</th>\n",
       "      <th>Month_D</th>\n",
       "      <th>Act</th>\n",
       "      <th>Boat</th>\n",
       "      <th>Injur_Type</th>\n",
       "      <th>Spec</th>\n",
       "    </tr>\n",
       "  </thead>\n",
       "  <tbody>\n",
       "    <tr>\n",
       "      <th>945</th>\n",
       "      <td>17-Feb-2011</td>\n",
       "      <td>2011</td>\n",
       "      <td>Unprovoked</td>\n",
       "      <td>AUSTRALIA</td>\n",
       "      <td>SOUTH AUSTRALIA</td>\n",
       "      <td>Off Perforated Island near Coffin Bay</td>\n",
       "      <td>Diving for abalone</td>\n",
       "      <td>M</td>\n",
       "      <td>49</td>\n",
       "      <td>FATAL</td>\n",
       "      <td>Y</td>\n",
       "      <td>18h20</td>\n",
       "      <td>White shark x 2</td>\n",
       "      <td>2011</td>\n",
       "      <td>FEB</td>\n",
       "      <td>DIVING</td>\n",
       "      <td>No</td>\n",
       "      <td>FATAL INJURY</td>\n",
       "      <td>WHITE</td>\n",
       "    </tr>\n",
       "    <tr>\n",
       "      <th>4328</th>\n",
       "      <td>19955</td>\n",
       "      <td>1954</td>\n",
       "      <td>Unprovoked</td>\n",
       "      <td>ITALY</td>\n",
       "      <td>LIGUARIA</td>\n",
       "      <td>Finale Ligure</td>\n",
       "      <td>Spearfishing</td>\n",
       "      <td>M</td>\n",
       "      <td>27</td>\n",
       "      <td>Abdomen injured</td>\n",
       "      <td>N</td>\n",
       "      <td>UNKNOWN</td>\n",
       "      <td>UNKNOWN</td>\n",
       "      <td>1995</td>\n",
       "      <td>UNKNOWN</td>\n",
       "      <td>SPEARFISHING</td>\n",
       "      <td>No</td>\n",
       "      <td>INJURED</td>\n",
       "      <td>UNKONWN</td>\n",
       "    </tr>\n",
       "    <tr>\n",
       "      <th>3494</th>\n",
       "      <td>18-Dec-1967</td>\n",
       "      <td>1967</td>\n",
       "      <td>Unprovoked</td>\n",
       "      <td>FIJI</td>\n",
       "      <td>UNKNOWN</td>\n",
       "      <td>UNKNOWN</td>\n",
       "      <td>UNKNOWN</td>\n",
       "      <td>M</td>\n",
       "      <td>27</td>\n",
       "      <td>Arm lacerated</td>\n",
       "      <td>N</td>\n",
       "      <td>09h00</td>\n",
       "      <td>UNKNOWN</td>\n",
       "      <td>1967</td>\n",
       "      <td>DEC</td>\n",
       "      <td>UNKONWN</td>\n",
       "      <td>No</td>\n",
       "      <td>LACERATIONS</td>\n",
       "      <td>UNKONWN</td>\n",
       "    </tr>\n",
       "    <tr>\n",
       "      <th>1029</th>\n",
       "      <td>03-May-2010</td>\n",
       "      <td>2010</td>\n",
       "      <td>Unprovoked</td>\n",
       "      <td>MADAGASCAR</td>\n",
       "      <td>ANTSIRANANA PROVINCE</td>\n",
       "      <td>Ambatolaoka, Nosy Be Island</td>\n",
       "      <td>Scuba diving</td>\n",
       "      <td>M</td>\n",
       "      <td>59</td>\n",
       "      <td>Lacerations to arm &amp; chest</td>\n",
       "      <td>N</td>\n",
       "      <td>09h30</td>\n",
       "      <td>UNKNOWN</td>\n",
       "      <td>2010</td>\n",
       "      <td>MAY</td>\n",
       "      <td>DIVING</td>\n",
       "      <td>No</td>\n",
       "      <td>LACERATIONS</td>\n",
       "      <td>UNKONWN</td>\n",
       "    </tr>\n",
       "    <tr>\n",
       "      <th>3425</th>\n",
       "      <td>Aug-1969</td>\n",
       "      <td>1969</td>\n",
       "      <td>Unprovoked</td>\n",
       "      <td>UNKNOWN</td>\n",
       "      <td>UNKNOWN</td>\n",
       "      <td>UNKNOWN</td>\n",
       "      <td>UNKNOWN</td>\n",
       "      <td>M</td>\n",
       "      <td>25</td>\n",
       "      <td>Am lacerated</td>\n",
       "      <td>N</td>\n",
       "      <td>UNKNOWN</td>\n",
       "      <td>UNKNOWN</td>\n",
       "      <td>1969</td>\n",
       "      <td>AUG</td>\n",
       "      <td>UNKONWN</td>\n",
       "      <td>No</td>\n",
       "      <td>LACERATIONS</td>\n",
       "      <td>UNKONWN</td>\n",
       "    </tr>\n",
       "  </tbody>\n",
       "</table>\n",
       "</div>"
      ],
      "text/plain": [
       "             Date  Year        Type     Country                  Area  \\\n",
       "945   17-Feb-2011  2011  Unprovoked   AUSTRALIA       SOUTH AUSTRALIA   \n",
       "4328        19955  1954  Unprovoked       ITALY              LIGUARIA   \n",
       "3494  18-Dec-1967  1967  Unprovoked        FIJI               UNKNOWN   \n",
       "1029  03-May-2010  2010  Unprovoked  MADAGASCAR  ANTSIRANANA PROVINCE   \n",
       "3425     Aug-1969  1969  Unprovoked     UNKNOWN               UNKNOWN   \n",
       "\n",
       "                                   Location            Activity Sex Age  \\\n",
       "945   Off Perforated Island near Coffin Bay  Diving for abalone   M  49   \n",
       "4328                          Finale Ligure        Spearfishing   M  27   \n",
       "3494                                UNKNOWN             UNKNOWN   M  27   \n",
       "1029            Ambatolaoka, Nosy Be Island        Scuba diving   M  59   \n",
       "3425                                UNKNOWN             UNKNOWN   M  25   \n",
       "\n",
       "                          Injury Fatal     Time          Species Year_D  \\\n",
       "945                        FATAL     Y    18h20  White shark x 2   2011   \n",
       "4328             Abdomen injured     N  UNKNOWN          UNKNOWN   1995   \n",
       "3494               Arm lacerated     N    09h00          UNKNOWN   1967   \n",
       "1029  Lacerations to arm & chest     N    09h30          UNKNOWN   2010   \n",
       "3425                Am lacerated     N  UNKNOWN          UNKNOWN   1969   \n",
       "\n",
       "      Month_D           Act Boat    Injur_Type     Spec  \n",
       "945       FEB        DIVING   No  FATAL INJURY    WHITE  \n",
       "4328  UNKNOWN  SPEARFISHING   No       INJURED  UNKONWN  \n",
       "3494      DEC       UNKONWN   No   LACERATIONS  UNKONWN  \n",
       "1029      MAY        DIVING   No   LACERATIONS  UNKONWN  \n",
       "3425      AUG       UNKONWN   No   LACERATIONS  UNKONWN  "
      ]
     },
     "execution_count": 40,
     "metadata": {},
     "output_type": "execute_result"
    }
   ],
   "source": [
    "sharks.sample(5)"
   ]
  },
  {
   "cell_type": "code",
   "execution_count": 41,
   "id": "5c7af89c",
   "metadata": {},
   "outputs": [],
   "source": [
    "#exportarmos sharky\n",
    "sharks.to_csv(\"data/sharks.csv\")"
   ]
  }
 ],
 "metadata": {
  "kernelspec": {
   "display_name": "ironhack",
   "language": "python",
   "name": "ironhack"
  },
  "language_info": {
   "codemirror_mode": {
    "name": "ipython",
    "version": 3
   },
   "file_extension": ".py",
   "mimetype": "text/x-python",
   "name": "python",
   "nbconvert_exporter": "python",
   "pygments_lexer": "ipython3",
   "version": "3.8.5"
  }
 },
 "nbformat": 4,
 "nbformat_minor": 5
}
